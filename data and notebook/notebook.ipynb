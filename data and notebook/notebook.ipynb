{
  "cells": [
    {
      "cell_type": "markdown",
      "metadata": {
        "id": "i7wohIvjOija"
      },
      "source": [
        "# IMPORT LIBRARY"
      ]
    },
    {
      "cell_type": "code",
      "execution_count": 423,
      "metadata": {
        "colab": {
          "base_uri": "https://localhost:8080/"
        },
        "id": "eqPQTHkmOt0G",
        "outputId": "b250475c-2102-484f-c497-61ad26f1f736"
      },
      "outputs": [
        {
          "output_type": "stream",
          "name": "stdout",
          "text": [
            "Looking in indexes: https://pypi.org/simple, https://us-python.pkg.dev/colab-wheels/public/simple/\n",
            "Requirement already satisfied: emoji in /usr/local/lib/python3.10/dist-packages (2.5.1)\n",
            "Looking in indexes: https://pypi.org/simple, https://us-python.pkg.dev/colab-wheels/public/simple/\n",
            "Requirement already satisfied: sastrawi in /usr/local/lib/python3.10/dist-packages (1.0.1)\n"
          ]
        }
      ],
      "source": [
        "!pip install emoji\n",
        "!pip install sastrawi"
      ]
    },
    {
      "cell_type": "code",
      "execution_count": 424,
      "metadata": {
        "id": "WqC-4LEgOZuJ"
      },
      "outputs": [],
      "source": [
        "import pandas as pd\n",
        "import re, string\n",
        "from collections import Counter\n",
        "import emoji\n",
        "import requests, json, nltk, re, string, os\n",
        "from bs4 import BeautifulSoup\n",
        "import numpy as np\n",
        "import matplotlib.pyplot as plt\n",
        "from requests_oauthlib import OAuth1\n",
        "import pandas as pd\n",
        "from nltk.tokenize import word_tokenize\n",
        "from nltk import FreqDist\n",
        "from nltk import ngrams\n",
        "from nltk.corpus import stopwords\n",
        "from wordcloud import WordCloud\n",
        "import gensim\n",
        "from gensim import corpora\n",
        "from gensim.models.coherencemodel import CoherenceModel\n",
        "from gensim.models.ldamodel import LdaModel\n",
        "import tqdm\n",
        "import seaborn as sns\n",
        "import networkx as nx\n",
        "import time\n",
        "import spacy"
      ]
    },
    {
      "cell_type": "code",
      "execution_count": 425,
      "metadata": {
        "colab": {
          "base_uri": "https://localhost:8080/"
        },
        "id": "4vc3H7ePOhla",
        "outputId": "cb3fa910-0a61-4b3f-a4d2-f7b4c8f3dbb5"
      },
      "outputs": [
        {
          "output_type": "stream",
          "name": "stderr",
          "text": [
            "[nltk_data] Downloading package stopwords to /root/nltk_data...\n",
            "[nltk_data]   Package stopwords is already up-to-date!\n",
            "[nltk_data] Downloading package punkt to /root/nltk_data...\n",
            "[nltk_data]   Package punkt is already up-to-date!\n"
          ]
        },
        {
          "output_type": "execute_result",
          "data": {
            "text/plain": [
              "True"
            ]
          },
          "metadata": {},
          "execution_count": 425
        }
      ],
      "source": [
        "import nltk\n",
        "import random\n",
        "nltk.download('stopwords')\n",
        "nltk.download('punkt')"
      ]
    },
    {
      "cell_type": "code",
      "execution_count": 426,
      "metadata": {
        "id": "UIdgL6RhhlSK"
      },
      "outputs": [],
      "source": [
        "from Sastrawi.StopWordRemover.StopWordRemoverFactory import StopWordRemoverFactory"
      ]
    },
    {
      "cell_type": "markdown",
      "metadata": {
        "id": "3RE_gAQuOkia"
      },
      "source": [
        "# READ DAN EKSPLORASI DATASET"
      ]
    },
    {
      "cell_type": "code",
      "execution_count": 427,
      "metadata": {
        "id": "p0CnIHkzOssv"
      },
      "outputs": [],
      "source": [
        "ig_df = pd.read_csv('hasilInstagram.csv', sep=';')\n",
        "twt_df = pd.read_csv('hasilTwitter.csv', sep=';')"
      ]
    },
    {
      "cell_type": "code",
      "execution_count": 428,
      "metadata": {
        "colab": {
          "base_uri": "https://localhost:8080/",
          "height": 206
        },
        "id": "T38cYxYGPF2M",
        "outputId": "83adcd90-8c95-4274-e4db-73d689f4fd07"
      },
      "outputs": [
        {
          "output_type": "execute_result",
          "data": {
            "text/plain": [
              "                                       link  \\\n",
              "0  https://www.instagram.com/p/CELtE7SHVZf/   \n",
              "1  https://www.instagram.com/p/CopdT8YL1ai/   \n",
              "2  https://www.instagram.com/p/CbCOOTLpoYH/   \n",
              "3  https://www.instagram.com/p/CNEGFpyJVDz/   \n",
              "4  https://www.instagram.com/p/Cs7_XrmO358/   \n",
              "\n",
              "                                               hasil  \n",
              "0  ['Cinta bermula dr mata, jd gak heran jika cin...  \n",
              "1  ['Street photography Mangrove finale part\\n\\nS...  \n",
              "2  ['Selamat berakhir pekan meskipun tanpa ayang....  \n",
              "3  ['Mari bercocok taman, membuat rumah ikan....\\...  \n",
              "4  ['81 Persistent goes to MANGROVE !\\n•\\n•\\n•\\n#...  "
            ],
            "text/html": [
              "\n",
              "  <div id=\"df-f7e224ff-abec-4a22-830b-329867d21d08\">\n",
              "    <div class=\"colab-df-container\">\n",
              "      <div>\n",
              "<style scoped>\n",
              "    .dataframe tbody tr th:only-of-type {\n",
              "        vertical-align: middle;\n",
              "    }\n",
              "\n",
              "    .dataframe tbody tr th {\n",
              "        vertical-align: top;\n",
              "    }\n",
              "\n",
              "    .dataframe thead th {\n",
              "        text-align: right;\n",
              "    }\n",
              "</style>\n",
              "<table border=\"1\" class=\"dataframe\">\n",
              "  <thead>\n",
              "    <tr style=\"text-align: right;\">\n",
              "      <th></th>\n",
              "      <th>link</th>\n",
              "      <th>hasil</th>\n",
              "    </tr>\n",
              "  </thead>\n",
              "  <tbody>\n",
              "    <tr>\n",
              "      <th>0</th>\n",
              "      <td>https://www.instagram.com/p/CELtE7SHVZf/</td>\n",
              "      <td>['Cinta bermula dr mata, jd gak heran jika cin...</td>\n",
              "    </tr>\n",
              "    <tr>\n",
              "      <th>1</th>\n",
              "      <td>https://www.instagram.com/p/CopdT8YL1ai/</td>\n",
              "      <td>['Street photography Mangrove finale part\\n\\nS...</td>\n",
              "    </tr>\n",
              "    <tr>\n",
              "      <th>2</th>\n",
              "      <td>https://www.instagram.com/p/CbCOOTLpoYH/</td>\n",
              "      <td>['Selamat berakhir pekan meskipun tanpa ayang....</td>\n",
              "    </tr>\n",
              "    <tr>\n",
              "      <th>3</th>\n",
              "      <td>https://www.instagram.com/p/CNEGFpyJVDz/</td>\n",
              "      <td>['Mari bercocok taman, membuat rumah ikan....\\...</td>\n",
              "    </tr>\n",
              "    <tr>\n",
              "      <th>4</th>\n",
              "      <td>https://www.instagram.com/p/Cs7_XrmO358/</td>\n",
              "      <td>['81 Persistent goes to MANGROVE !\\n•\\n•\\n•\\n#...</td>\n",
              "    </tr>\n",
              "  </tbody>\n",
              "</table>\n",
              "</div>\n",
              "      <button class=\"colab-df-convert\" onclick=\"convertToInteractive('df-f7e224ff-abec-4a22-830b-329867d21d08')\"\n",
              "              title=\"Convert this dataframe to an interactive table.\"\n",
              "              style=\"display:none;\">\n",
              "        \n",
              "  <svg xmlns=\"http://www.w3.org/2000/svg\" height=\"24px\"viewBox=\"0 0 24 24\"\n",
              "       width=\"24px\">\n",
              "    <path d=\"M0 0h24v24H0V0z\" fill=\"none\"/>\n",
              "    <path d=\"M18.56 5.44l.94 2.06.94-2.06 2.06-.94-2.06-.94-.94-2.06-.94 2.06-2.06.94zm-11 1L8.5 8.5l.94-2.06 2.06-.94-2.06-.94L8.5 2.5l-.94 2.06-2.06.94zm10 10l.94 2.06.94-2.06 2.06-.94-2.06-.94-.94-2.06-.94 2.06-2.06.94z\"/><path d=\"M17.41 7.96l-1.37-1.37c-.4-.4-.92-.59-1.43-.59-.52 0-1.04.2-1.43.59L10.3 9.45l-7.72 7.72c-.78.78-.78 2.05 0 2.83L4 21.41c.39.39.9.59 1.41.59.51 0 1.02-.2 1.41-.59l7.78-7.78 2.81-2.81c.8-.78.8-2.07 0-2.86zM5.41 20L4 18.59l7.72-7.72 1.47 1.35L5.41 20z\"/>\n",
              "  </svg>\n",
              "      </button>\n",
              "      \n",
              "  <style>\n",
              "    .colab-df-container {\n",
              "      display:flex;\n",
              "      flex-wrap:wrap;\n",
              "      gap: 12px;\n",
              "    }\n",
              "\n",
              "    .colab-df-convert {\n",
              "      background-color: #E8F0FE;\n",
              "      border: none;\n",
              "      border-radius: 50%;\n",
              "      cursor: pointer;\n",
              "      display: none;\n",
              "      fill: #1967D2;\n",
              "      height: 32px;\n",
              "      padding: 0 0 0 0;\n",
              "      width: 32px;\n",
              "    }\n",
              "\n",
              "    .colab-df-convert:hover {\n",
              "      background-color: #E2EBFA;\n",
              "      box-shadow: 0px 1px 2px rgba(60, 64, 67, 0.3), 0px 1px 3px 1px rgba(60, 64, 67, 0.15);\n",
              "      fill: #174EA6;\n",
              "    }\n",
              "\n",
              "    [theme=dark] .colab-df-convert {\n",
              "      background-color: #3B4455;\n",
              "      fill: #D2E3FC;\n",
              "    }\n",
              "\n",
              "    [theme=dark] .colab-df-convert:hover {\n",
              "      background-color: #434B5C;\n",
              "      box-shadow: 0px 1px 3px 1px rgba(0, 0, 0, 0.15);\n",
              "      filter: drop-shadow(0px 1px 2px rgba(0, 0, 0, 0.3));\n",
              "      fill: #FFFFFF;\n",
              "    }\n",
              "  </style>\n",
              "\n",
              "      <script>\n",
              "        const buttonEl =\n",
              "          document.querySelector('#df-f7e224ff-abec-4a22-830b-329867d21d08 button.colab-df-convert');\n",
              "        buttonEl.style.display =\n",
              "          google.colab.kernel.accessAllowed ? 'block' : 'none';\n",
              "\n",
              "        async function convertToInteractive(key) {\n",
              "          const element = document.querySelector('#df-f7e224ff-abec-4a22-830b-329867d21d08');\n",
              "          const dataTable =\n",
              "            await google.colab.kernel.invokeFunction('convertToInteractive',\n",
              "                                                     [key], {});\n",
              "          if (!dataTable) return;\n",
              "\n",
              "          const docLinkHtml = 'Like what you see? Visit the ' +\n",
              "            '<a target=\"_blank\" href=https://colab.research.google.com/notebooks/data_table.ipynb>data table notebook</a>'\n",
              "            + ' to learn more about interactive tables.';\n",
              "          element.innerHTML = '';\n",
              "          dataTable['output_type'] = 'display_data';\n",
              "          await google.colab.output.renderOutput(dataTable, element);\n",
              "          const docLink = document.createElement('div');\n",
              "          docLink.innerHTML = docLinkHtml;\n",
              "          element.appendChild(docLink);\n",
              "        }\n",
              "      </script>\n",
              "    </div>\n",
              "  </div>\n",
              "  "
            ]
          },
          "metadata": {},
          "execution_count": 428
        }
      ],
      "source": [
        "ig_df.drop(columns='Unnamed: 0', inplace = True)\n",
        "ig_df.head()"
      ]
    },
    {
      "cell_type": "code",
      "execution_count": 429,
      "metadata": {
        "colab": {
          "base_uri": "https://localhost:8080/",
          "height": 206
        },
        "id": "mWR3ePT0Pj1O",
        "outputId": "01a2b56d-be35-450c-ee2d-a3072dda6f0d"
      },
      "outputs": [
        {
          "output_type": "execute_result",
          "data": {
            "text/plain": [
              "                                                link  \\\n",
              "0  https://twitter.com/ngopibareng_id/status/1667...   \n",
              "1  https://twitter.com/imediacyber/status/1667413...   \n",
              "2  https://twitter.com/JatimPemprov/status/166737...   \n",
              "3  https://twitter.com/plndisjatim/status/1667313...   \n",
              "4  https://twitter.com/superradioid/status/166710...   \n",
              "\n",
              "                                               hasil  \n",
              "0  ['Gubernur Jawa Timur Khofifah Indar Parawansa...  \n",
              "1  ['Gubernur Khofifah: Cobain Berkunjung ke Huta...  \n",
              "2  ['Memperingati Hari Lingkungan Hidup Sedunia, ...  \n",
              "3  ['\"Serentak hari ini di 8 lokasi yakni kawasan...  \n",
              "4  ['SR, Surabaya – Dalam rangka peringatan Hari ...  "
            ],
            "text/html": [
              "\n",
              "  <div id=\"df-8778650c-8235-4f29-a6ff-09a8466746d5\">\n",
              "    <div class=\"colab-df-container\">\n",
              "      <div>\n",
              "<style scoped>\n",
              "    .dataframe tbody tr th:only-of-type {\n",
              "        vertical-align: middle;\n",
              "    }\n",
              "\n",
              "    .dataframe tbody tr th {\n",
              "        vertical-align: top;\n",
              "    }\n",
              "\n",
              "    .dataframe thead th {\n",
              "        text-align: right;\n",
              "    }\n",
              "</style>\n",
              "<table border=\"1\" class=\"dataframe\">\n",
              "  <thead>\n",
              "    <tr style=\"text-align: right;\">\n",
              "      <th></th>\n",
              "      <th>link</th>\n",
              "      <th>hasil</th>\n",
              "    </tr>\n",
              "  </thead>\n",
              "  <tbody>\n",
              "    <tr>\n",
              "      <th>0</th>\n",
              "      <td>https://twitter.com/ngopibareng_id/status/1667...</td>\n",
              "      <td>['Gubernur Jawa Timur Khofifah Indar Parawansa...</td>\n",
              "    </tr>\n",
              "    <tr>\n",
              "      <th>1</th>\n",
              "      <td>https://twitter.com/imediacyber/status/1667413...</td>\n",
              "      <td>['Gubernur Khofifah: Cobain Berkunjung ke Huta...</td>\n",
              "    </tr>\n",
              "    <tr>\n",
              "      <th>2</th>\n",
              "      <td>https://twitter.com/JatimPemprov/status/166737...</td>\n",
              "      <td>['Memperingati Hari Lingkungan Hidup Sedunia, ...</td>\n",
              "    </tr>\n",
              "    <tr>\n",
              "      <th>3</th>\n",
              "      <td>https://twitter.com/plndisjatim/status/1667313...</td>\n",
              "      <td>['\"Serentak hari ini di 8 lokasi yakni kawasan...</td>\n",
              "    </tr>\n",
              "    <tr>\n",
              "      <th>4</th>\n",
              "      <td>https://twitter.com/superradioid/status/166710...</td>\n",
              "      <td>['SR, Surabaya – Dalam rangka peringatan Hari ...</td>\n",
              "    </tr>\n",
              "  </tbody>\n",
              "</table>\n",
              "</div>\n",
              "      <button class=\"colab-df-convert\" onclick=\"convertToInteractive('df-8778650c-8235-4f29-a6ff-09a8466746d5')\"\n",
              "              title=\"Convert this dataframe to an interactive table.\"\n",
              "              style=\"display:none;\">\n",
              "        \n",
              "  <svg xmlns=\"http://www.w3.org/2000/svg\" height=\"24px\"viewBox=\"0 0 24 24\"\n",
              "       width=\"24px\">\n",
              "    <path d=\"M0 0h24v24H0V0z\" fill=\"none\"/>\n",
              "    <path d=\"M18.56 5.44l.94 2.06.94-2.06 2.06-.94-2.06-.94-.94-2.06-.94 2.06-2.06.94zm-11 1L8.5 8.5l.94-2.06 2.06-.94-2.06-.94L8.5 2.5l-.94 2.06-2.06.94zm10 10l.94 2.06.94-2.06 2.06-.94-2.06-.94-.94-2.06-.94 2.06-2.06.94z\"/><path d=\"M17.41 7.96l-1.37-1.37c-.4-.4-.92-.59-1.43-.59-.52 0-1.04.2-1.43.59L10.3 9.45l-7.72 7.72c-.78.78-.78 2.05 0 2.83L4 21.41c.39.39.9.59 1.41.59.51 0 1.02-.2 1.41-.59l7.78-7.78 2.81-2.81c.8-.78.8-2.07 0-2.86zM5.41 20L4 18.59l7.72-7.72 1.47 1.35L5.41 20z\"/>\n",
              "  </svg>\n",
              "      </button>\n",
              "      \n",
              "  <style>\n",
              "    .colab-df-container {\n",
              "      display:flex;\n",
              "      flex-wrap:wrap;\n",
              "      gap: 12px;\n",
              "    }\n",
              "\n",
              "    .colab-df-convert {\n",
              "      background-color: #E8F0FE;\n",
              "      border: none;\n",
              "      border-radius: 50%;\n",
              "      cursor: pointer;\n",
              "      display: none;\n",
              "      fill: #1967D2;\n",
              "      height: 32px;\n",
              "      padding: 0 0 0 0;\n",
              "      width: 32px;\n",
              "    }\n",
              "\n",
              "    .colab-df-convert:hover {\n",
              "      background-color: #E2EBFA;\n",
              "      box-shadow: 0px 1px 2px rgba(60, 64, 67, 0.3), 0px 1px 3px 1px rgba(60, 64, 67, 0.15);\n",
              "      fill: #174EA6;\n",
              "    }\n",
              "\n",
              "    [theme=dark] .colab-df-convert {\n",
              "      background-color: #3B4455;\n",
              "      fill: #D2E3FC;\n",
              "    }\n",
              "\n",
              "    [theme=dark] .colab-df-convert:hover {\n",
              "      background-color: #434B5C;\n",
              "      box-shadow: 0px 1px 3px 1px rgba(0, 0, 0, 0.15);\n",
              "      filter: drop-shadow(0px 1px 2px rgba(0, 0, 0, 0.3));\n",
              "      fill: #FFFFFF;\n",
              "    }\n",
              "  </style>\n",
              "\n",
              "      <script>\n",
              "        const buttonEl =\n",
              "          document.querySelector('#df-8778650c-8235-4f29-a6ff-09a8466746d5 button.colab-df-convert');\n",
              "        buttonEl.style.display =\n",
              "          google.colab.kernel.accessAllowed ? 'block' : 'none';\n",
              "\n",
              "        async function convertToInteractive(key) {\n",
              "          const element = document.querySelector('#df-8778650c-8235-4f29-a6ff-09a8466746d5');\n",
              "          const dataTable =\n",
              "            await google.colab.kernel.invokeFunction('convertToInteractive',\n",
              "                                                     [key], {});\n",
              "          if (!dataTable) return;\n",
              "\n",
              "          const docLinkHtml = 'Like what you see? Visit the ' +\n",
              "            '<a target=\"_blank\" href=https://colab.research.google.com/notebooks/data_table.ipynb>data table notebook</a>'\n",
              "            + ' to learn more about interactive tables.';\n",
              "          element.innerHTML = '';\n",
              "          dataTable['output_type'] = 'display_data';\n",
              "          await google.colab.output.renderOutput(dataTable, element);\n",
              "          const docLink = document.createElement('div');\n",
              "          docLink.innerHTML = docLinkHtml;\n",
              "          element.appendChild(docLink);\n",
              "        }\n",
              "      </script>\n",
              "    </div>\n",
              "  </div>\n",
              "  "
            ]
          },
          "metadata": {},
          "execution_count": 429
        }
      ],
      "source": [
        "twt_df.drop(columns='Unnamed: 0', inplace = True)\n",
        "twt_df.head()"
      ]
    },
    {
      "cell_type": "code",
      "execution_count": 430,
      "metadata": {
        "colab": {
          "base_uri": "https://localhost:8080/",
          "height": 206
        },
        "id": "ZFfsb0eYRMzp",
        "outputId": "6e5a5906-5ebd-45c8-de5b-b359fcde77aa"
      },
      "outputs": [
        {
          "output_type": "execute_result",
          "data": {
            "text/plain": [
              "                                       link  \\\n",
              "0  https://www.instagram.com/p/CELtE7SHVZf/   \n",
              "1  https://www.instagram.com/p/CopdT8YL1ai/   \n",
              "2  https://www.instagram.com/p/CbCOOTLpoYH/   \n",
              "3  https://www.instagram.com/p/CNEGFpyJVDz/   \n",
              "4  https://www.instagram.com/p/Cs7_XrmO358/   \n",
              "\n",
              "                                               hasil  \n",
              "0  ['Cinta bermula dr mata, jd gak heran jika cin...  \n",
              "1  ['Street photography Mangrove finale part\\n\\nS...  \n",
              "2  ['Selamat berakhir pekan meskipun tanpa ayang....  \n",
              "3  ['Mari bercocok taman, membuat rumah ikan....\\...  \n",
              "4  ['81 Persistent goes to MANGROVE !\\n•\\n•\\n•\\n#...  "
            ],
            "text/html": [
              "\n",
              "  <div id=\"df-f3ecc477-f81b-4793-b6bf-823798b5e916\">\n",
              "    <div class=\"colab-df-container\">\n",
              "      <div>\n",
              "<style scoped>\n",
              "    .dataframe tbody tr th:only-of-type {\n",
              "        vertical-align: middle;\n",
              "    }\n",
              "\n",
              "    .dataframe tbody tr th {\n",
              "        vertical-align: top;\n",
              "    }\n",
              "\n",
              "    .dataframe thead th {\n",
              "        text-align: right;\n",
              "    }\n",
              "</style>\n",
              "<table border=\"1\" class=\"dataframe\">\n",
              "  <thead>\n",
              "    <tr style=\"text-align: right;\">\n",
              "      <th></th>\n",
              "      <th>link</th>\n",
              "      <th>hasil</th>\n",
              "    </tr>\n",
              "  </thead>\n",
              "  <tbody>\n",
              "    <tr>\n",
              "      <th>0</th>\n",
              "      <td>https://www.instagram.com/p/CELtE7SHVZf/</td>\n",
              "      <td>['Cinta bermula dr mata, jd gak heran jika cin...</td>\n",
              "    </tr>\n",
              "    <tr>\n",
              "      <th>1</th>\n",
              "      <td>https://www.instagram.com/p/CopdT8YL1ai/</td>\n",
              "      <td>['Street photography Mangrove finale part\\n\\nS...</td>\n",
              "    </tr>\n",
              "    <tr>\n",
              "      <th>2</th>\n",
              "      <td>https://www.instagram.com/p/CbCOOTLpoYH/</td>\n",
              "      <td>['Selamat berakhir pekan meskipun tanpa ayang....</td>\n",
              "    </tr>\n",
              "    <tr>\n",
              "      <th>3</th>\n",
              "      <td>https://www.instagram.com/p/CNEGFpyJVDz/</td>\n",
              "      <td>['Mari bercocok taman, membuat rumah ikan....\\...</td>\n",
              "    </tr>\n",
              "    <tr>\n",
              "      <th>4</th>\n",
              "      <td>https://www.instagram.com/p/Cs7_XrmO358/</td>\n",
              "      <td>['81 Persistent goes to MANGROVE !\\n•\\n•\\n•\\n#...</td>\n",
              "    </tr>\n",
              "  </tbody>\n",
              "</table>\n",
              "</div>\n",
              "      <button class=\"colab-df-convert\" onclick=\"convertToInteractive('df-f3ecc477-f81b-4793-b6bf-823798b5e916')\"\n",
              "              title=\"Convert this dataframe to an interactive table.\"\n",
              "              style=\"display:none;\">\n",
              "        \n",
              "  <svg xmlns=\"http://www.w3.org/2000/svg\" height=\"24px\"viewBox=\"0 0 24 24\"\n",
              "       width=\"24px\">\n",
              "    <path d=\"M0 0h24v24H0V0z\" fill=\"none\"/>\n",
              "    <path d=\"M18.56 5.44l.94 2.06.94-2.06 2.06-.94-2.06-.94-.94-2.06-.94 2.06-2.06.94zm-11 1L8.5 8.5l.94-2.06 2.06-.94-2.06-.94L8.5 2.5l-.94 2.06-2.06.94zm10 10l.94 2.06.94-2.06 2.06-.94-2.06-.94-.94-2.06-.94 2.06-2.06.94z\"/><path d=\"M17.41 7.96l-1.37-1.37c-.4-.4-.92-.59-1.43-.59-.52 0-1.04.2-1.43.59L10.3 9.45l-7.72 7.72c-.78.78-.78 2.05 0 2.83L4 21.41c.39.39.9.59 1.41.59.51 0 1.02-.2 1.41-.59l7.78-7.78 2.81-2.81c.8-.78.8-2.07 0-2.86zM5.41 20L4 18.59l7.72-7.72 1.47 1.35L5.41 20z\"/>\n",
              "  </svg>\n",
              "      </button>\n",
              "      \n",
              "  <style>\n",
              "    .colab-df-container {\n",
              "      display:flex;\n",
              "      flex-wrap:wrap;\n",
              "      gap: 12px;\n",
              "    }\n",
              "\n",
              "    .colab-df-convert {\n",
              "      background-color: #E8F0FE;\n",
              "      border: none;\n",
              "      border-radius: 50%;\n",
              "      cursor: pointer;\n",
              "      display: none;\n",
              "      fill: #1967D2;\n",
              "      height: 32px;\n",
              "      padding: 0 0 0 0;\n",
              "      width: 32px;\n",
              "    }\n",
              "\n",
              "    .colab-df-convert:hover {\n",
              "      background-color: #E2EBFA;\n",
              "      box-shadow: 0px 1px 2px rgba(60, 64, 67, 0.3), 0px 1px 3px 1px rgba(60, 64, 67, 0.15);\n",
              "      fill: #174EA6;\n",
              "    }\n",
              "\n",
              "    [theme=dark] .colab-df-convert {\n",
              "      background-color: #3B4455;\n",
              "      fill: #D2E3FC;\n",
              "    }\n",
              "\n",
              "    [theme=dark] .colab-df-convert:hover {\n",
              "      background-color: #434B5C;\n",
              "      box-shadow: 0px 1px 3px 1px rgba(0, 0, 0, 0.15);\n",
              "      filter: drop-shadow(0px 1px 2px rgba(0, 0, 0, 0.3));\n",
              "      fill: #FFFFFF;\n",
              "    }\n",
              "  </style>\n",
              "\n",
              "      <script>\n",
              "        const buttonEl =\n",
              "          document.querySelector('#df-f3ecc477-f81b-4793-b6bf-823798b5e916 button.colab-df-convert');\n",
              "        buttonEl.style.display =\n",
              "          google.colab.kernel.accessAllowed ? 'block' : 'none';\n",
              "\n",
              "        async function convertToInteractive(key) {\n",
              "          const element = document.querySelector('#df-f3ecc477-f81b-4793-b6bf-823798b5e916');\n",
              "          const dataTable =\n",
              "            await google.colab.kernel.invokeFunction('convertToInteractive',\n",
              "                                                     [key], {});\n",
              "          if (!dataTable) return;\n",
              "\n",
              "          const docLinkHtml = 'Like what you see? Visit the ' +\n",
              "            '<a target=\"_blank\" href=https://colab.research.google.com/notebooks/data_table.ipynb>data table notebook</a>'\n",
              "            + ' to learn more about interactive tables.';\n",
              "          element.innerHTML = '';\n",
              "          dataTable['output_type'] = 'display_data';\n",
              "          await google.colab.output.renderOutput(dataTable, element);\n",
              "          const docLink = document.createElement('div');\n",
              "          docLink.innerHTML = docLinkHtml;\n",
              "          element.appendChild(docLink);\n",
              "        }\n",
              "      </script>\n",
              "    </div>\n",
              "  </div>\n",
              "  "
            ]
          },
          "metadata": {},
          "execution_count": 430
        }
      ],
      "source": [
        "all_df = pd.concat([ig_df, twt_df])\n",
        "all_df = all_df.reset_index(drop=True)\n",
        "all_df.head()"
      ]
    },
    {
      "cell_type": "code",
      "execution_count": 431,
      "metadata": {
        "colab": {
          "base_uri": "https://localhost:8080/"
        },
        "id": "ECqFODwHSsvq",
        "outputId": "6d6706e1-7424-424e-e027-d21b4065ffbc"
      },
      "outputs": [
        {
          "output_type": "execute_result",
          "data": {
            "text/plain": [
              "link      0\n",
              "hasil    54\n",
              "dtype: int64"
            ]
          },
          "metadata": {},
          "execution_count": 431
        }
      ],
      "source": [
        "all_df.isnull().sum()"
      ]
    },
    {
      "cell_type": "code",
      "execution_count": 432,
      "metadata": {
        "colab": {
          "base_uri": "https://localhost:8080/"
        },
        "id": "cEafBEv-TgJc",
        "outputId": "806e17c8-9f65-41bd-a0f1-95e9ab6acbfc"
      },
      "outputs": [
        {
          "output_type": "execute_result",
          "data": {
            "text/plain": [
              "link     0\n",
              "hasil    0\n",
              "dtype: int64"
            ]
          },
          "metadata": {},
          "execution_count": 432
        }
      ],
      "source": [
        "all_df.dropna(inplace=True)\n",
        "all_df.isnull().sum()"
      ]
    },
    {
      "cell_type": "markdown",
      "metadata": {
        "id": "SLrUNd25PldF"
      },
      "source": [
        "# PREPROCESSING"
      ]
    },
    {
      "cell_type": "code",
      "execution_count": 433,
      "metadata": {
        "id": "eCfArJhDLcp5"
      },
      "outputs": [],
      "source": [
        "# CONVERT EMOJI\n",
        "def convert_emoji(text):\n",
        "  text = emoji.demojize(text)\n",
        "  return text"
      ]
    },
    {
      "cell_type": "code",
      "execution_count": 434,
      "metadata": {
        "id": "8qzHfkbSLd37"
      },
      "outputs": [],
      "source": [
        "all_df['hasil'] = all_df['hasil'].apply(lambda x: convert_emoji(x))"
      ]
    },
    {
      "cell_type": "code",
      "execution_count": 435,
      "metadata": {
        "id": "ucvbrXGFZ_wm"
      },
      "outputs": [],
      "source": [
        "# LOWERING\n",
        "all_df['hasil'] = all_df['hasil'].apply(lambda x: x.lower())"
      ]
    },
    {
      "cell_type": "code",
      "execution_count": 436,
      "metadata": {
        "colab": {
          "base_uri": "https://localhost:8080/",
          "height": 206
        },
        "id": "rhVoXwF8opIz",
        "outputId": "e3602810-d22a-452d-ca9c-1b333985c104"
      },
      "outputs": [
        {
          "output_type": "execute_result",
          "data": {
            "text/plain": [
              "                                       link  \\\n",
              "0  https://www.instagram.com/p/CELtE7SHVZf/   \n",
              "1  https://www.instagram.com/p/CopdT8YL1ai/   \n",
              "2  https://www.instagram.com/p/CbCOOTLpoYH/   \n",
              "3  https://www.instagram.com/p/CNEGFpyJVDz/   \n",
              "4  https://www.instagram.com/p/Cs7_XrmO358/   \n",
              "\n",
              "                                               hasil  \n",
              "0  ['cinta bermula dr mata, jd gak heran jika cin...  \n",
              "1  ['street photography mangrove finale part\\n\\ns...  \n",
              "2  ['selamat berakhir pekan meskipun tanpa ayang....  \n",
              "3  ['mari bercocok taman, membuat rumah ikan....\\...  \n",
              "4  ['81 persistent goes to mangrove !\\n•\\n•\\n•\\n#...  "
            ],
            "text/html": [
              "\n",
              "  <div id=\"df-733f4cea-73d6-4c2d-ae43-23bb1a1ac038\">\n",
              "    <div class=\"colab-df-container\">\n",
              "      <div>\n",
              "<style scoped>\n",
              "    .dataframe tbody tr th:only-of-type {\n",
              "        vertical-align: middle;\n",
              "    }\n",
              "\n",
              "    .dataframe tbody tr th {\n",
              "        vertical-align: top;\n",
              "    }\n",
              "\n",
              "    .dataframe thead th {\n",
              "        text-align: right;\n",
              "    }\n",
              "</style>\n",
              "<table border=\"1\" class=\"dataframe\">\n",
              "  <thead>\n",
              "    <tr style=\"text-align: right;\">\n",
              "      <th></th>\n",
              "      <th>link</th>\n",
              "      <th>hasil</th>\n",
              "    </tr>\n",
              "  </thead>\n",
              "  <tbody>\n",
              "    <tr>\n",
              "      <th>0</th>\n",
              "      <td>https://www.instagram.com/p/CELtE7SHVZf/</td>\n",
              "      <td>['cinta bermula dr mata, jd gak heran jika cin...</td>\n",
              "    </tr>\n",
              "    <tr>\n",
              "      <th>1</th>\n",
              "      <td>https://www.instagram.com/p/CopdT8YL1ai/</td>\n",
              "      <td>['street photography mangrove finale part\\n\\ns...</td>\n",
              "    </tr>\n",
              "    <tr>\n",
              "      <th>2</th>\n",
              "      <td>https://www.instagram.com/p/CbCOOTLpoYH/</td>\n",
              "      <td>['selamat berakhir pekan meskipun tanpa ayang....</td>\n",
              "    </tr>\n",
              "    <tr>\n",
              "      <th>3</th>\n",
              "      <td>https://www.instagram.com/p/CNEGFpyJVDz/</td>\n",
              "      <td>['mari bercocok taman, membuat rumah ikan....\\...</td>\n",
              "    </tr>\n",
              "    <tr>\n",
              "      <th>4</th>\n",
              "      <td>https://www.instagram.com/p/Cs7_XrmO358/</td>\n",
              "      <td>['81 persistent goes to mangrove !\\n•\\n•\\n•\\n#...</td>\n",
              "    </tr>\n",
              "  </tbody>\n",
              "</table>\n",
              "</div>\n",
              "      <button class=\"colab-df-convert\" onclick=\"convertToInteractive('df-733f4cea-73d6-4c2d-ae43-23bb1a1ac038')\"\n",
              "              title=\"Convert this dataframe to an interactive table.\"\n",
              "              style=\"display:none;\">\n",
              "        \n",
              "  <svg xmlns=\"http://www.w3.org/2000/svg\" height=\"24px\"viewBox=\"0 0 24 24\"\n",
              "       width=\"24px\">\n",
              "    <path d=\"M0 0h24v24H0V0z\" fill=\"none\"/>\n",
              "    <path d=\"M18.56 5.44l.94 2.06.94-2.06 2.06-.94-2.06-.94-.94-2.06-.94 2.06-2.06.94zm-11 1L8.5 8.5l.94-2.06 2.06-.94-2.06-.94L8.5 2.5l-.94 2.06-2.06.94zm10 10l.94 2.06.94-2.06 2.06-.94-2.06-.94-.94-2.06-.94 2.06-2.06.94z\"/><path d=\"M17.41 7.96l-1.37-1.37c-.4-.4-.92-.59-1.43-.59-.52 0-1.04.2-1.43.59L10.3 9.45l-7.72 7.72c-.78.78-.78 2.05 0 2.83L4 21.41c.39.39.9.59 1.41.59.51 0 1.02-.2 1.41-.59l7.78-7.78 2.81-2.81c.8-.78.8-2.07 0-2.86zM5.41 20L4 18.59l7.72-7.72 1.47 1.35L5.41 20z\"/>\n",
              "  </svg>\n",
              "      </button>\n",
              "      \n",
              "  <style>\n",
              "    .colab-df-container {\n",
              "      display:flex;\n",
              "      flex-wrap:wrap;\n",
              "      gap: 12px;\n",
              "    }\n",
              "\n",
              "    .colab-df-convert {\n",
              "      background-color: #E8F0FE;\n",
              "      border: none;\n",
              "      border-radius: 50%;\n",
              "      cursor: pointer;\n",
              "      display: none;\n",
              "      fill: #1967D2;\n",
              "      height: 32px;\n",
              "      padding: 0 0 0 0;\n",
              "      width: 32px;\n",
              "    }\n",
              "\n",
              "    .colab-df-convert:hover {\n",
              "      background-color: #E2EBFA;\n",
              "      box-shadow: 0px 1px 2px rgba(60, 64, 67, 0.3), 0px 1px 3px 1px rgba(60, 64, 67, 0.15);\n",
              "      fill: #174EA6;\n",
              "    }\n",
              "\n",
              "    [theme=dark] .colab-df-convert {\n",
              "      background-color: #3B4455;\n",
              "      fill: #D2E3FC;\n",
              "    }\n",
              "\n",
              "    [theme=dark] .colab-df-convert:hover {\n",
              "      background-color: #434B5C;\n",
              "      box-shadow: 0px 1px 3px 1px rgba(0, 0, 0, 0.15);\n",
              "      filter: drop-shadow(0px 1px 2px rgba(0, 0, 0, 0.3));\n",
              "      fill: #FFFFFF;\n",
              "    }\n",
              "  </style>\n",
              "\n",
              "      <script>\n",
              "        const buttonEl =\n",
              "          document.querySelector('#df-733f4cea-73d6-4c2d-ae43-23bb1a1ac038 button.colab-df-convert');\n",
              "        buttonEl.style.display =\n",
              "          google.colab.kernel.accessAllowed ? 'block' : 'none';\n",
              "\n",
              "        async function convertToInteractive(key) {\n",
              "          const element = document.querySelector('#df-733f4cea-73d6-4c2d-ae43-23bb1a1ac038');\n",
              "          const dataTable =\n",
              "            await google.colab.kernel.invokeFunction('convertToInteractive',\n",
              "                                                     [key], {});\n",
              "          if (!dataTable) return;\n",
              "\n",
              "          const docLinkHtml = 'Like what you see? Visit the ' +\n",
              "            '<a target=\"_blank\" href=https://colab.research.google.com/notebooks/data_table.ipynb>data table notebook</a>'\n",
              "            + ' to learn more about interactive tables.';\n",
              "          element.innerHTML = '';\n",
              "          dataTable['output_type'] = 'display_data';\n",
              "          await google.colab.output.renderOutput(dataTable, element);\n",
              "          const docLink = document.createElement('div');\n",
              "          docLink.innerHTML = docLinkHtml;\n",
              "          element.appendChild(docLink);\n",
              "        }\n",
              "      </script>\n",
              "    </div>\n",
              "  </div>\n",
              "  "
            ]
          },
          "metadata": {},
          "execution_count": 436
        }
      ],
      "source": [
        "all_df.head()"
      ]
    },
    {
      "cell_type": "code",
      "execution_count": 437,
      "metadata": {
        "id": "nUUlS1pBQNnF"
      },
      "outputs": [],
      "source": [
        "#menghilangkan karakter yang tidak diperlukan, merubah menjadi huruf kecil\n",
        "def case_folding(text):\n",
        "  text = re.sub(r\"\\d+\",\"\",text)\n",
        "  text = re.sub(r\"(?<!\\S)\\n(?!\\S)\", \"\", text)\n",
        "  text = re.sub(r\"\\t+\",\"\",text)\n",
        "  text = re.sub(r\"#\\w+\",\"\",text)\n",
        "  text = re.sub(r\"\\b\\w\\b\", \"\", text)\n",
        "  text = ' '.join(re.sub(\"(@[A-Za-z0-9]+)|([^A-Za-z \\t])|(\\w+:\\/\\/\\S+)|(\\d+)\", \" \", text).split())\n",
        "  return text"
      ]
    },
    {
      "cell_type": "code",
      "execution_count": 438,
      "metadata": {
        "id": "SlapHMxzZ1R3"
      },
      "outputs": [],
      "source": [
        "all_df['hasil'] = all_df['hasil'].apply(lambda x: case_folding(x))"
      ]
    },
    {
      "cell_type": "code",
      "execution_count": 439,
      "metadata": {
        "colab": {
          "base_uri": "https://localhost:8080/",
          "height": 206
        },
        "id": "P9DiZdYLnk7g",
        "outputId": "b3e36158-be0d-4a42-c3ef-d7b628e002a2"
      },
      "outputs": [
        {
          "output_type": "execute_result",
          "data": {
            "text/plain": [
              "                                       link  \\\n",
              "0  https://www.instagram.com/p/CELtE7SHVZf/   \n",
              "1  https://www.instagram.com/p/CopdT8YL1ai/   \n",
              "2  https://www.instagram.com/p/CbCOOTLpoYH/   \n",
              "3  https://www.instagram.com/p/CNEGFpyJVDz/   \n",
              "4  https://www.instagram.com/p/Cs7_XrmO358/   \n",
              "\n",
              "                                               hasil  \n",
              "0  cinta bermula dr mata jd gak heran jika cinta ...  \n",
              "1  street photography mangrove finale part nsuppo...  \n",
              "2        selamat berakhir pekan meskipun tanpa ayang  \n",
              "3  mari bercocok taman membuat rumah ikan thumbs ...  \n",
              "4                        persistent goes to mangrove  "
            ],
            "text/html": [
              "\n",
              "  <div id=\"df-478b3ea7-2308-4956-9223-451b696d1541\">\n",
              "    <div class=\"colab-df-container\">\n",
              "      <div>\n",
              "<style scoped>\n",
              "    .dataframe tbody tr th:only-of-type {\n",
              "        vertical-align: middle;\n",
              "    }\n",
              "\n",
              "    .dataframe tbody tr th {\n",
              "        vertical-align: top;\n",
              "    }\n",
              "\n",
              "    .dataframe thead th {\n",
              "        text-align: right;\n",
              "    }\n",
              "</style>\n",
              "<table border=\"1\" class=\"dataframe\">\n",
              "  <thead>\n",
              "    <tr style=\"text-align: right;\">\n",
              "      <th></th>\n",
              "      <th>link</th>\n",
              "      <th>hasil</th>\n",
              "    </tr>\n",
              "  </thead>\n",
              "  <tbody>\n",
              "    <tr>\n",
              "      <th>0</th>\n",
              "      <td>https://www.instagram.com/p/CELtE7SHVZf/</td>\n",
              "      <td>cinta bermula dr mata jd gak heran jika cinta ...</td>\n",
              "    </tr>\n",
              "    <tr>\n",
              "      <th>1</th>\n",
              "      <td>https://www.instagram.com/p/CopdT8YL1ai/</td>\n",
              "      <td>street photography mangrove finale part nsuppo...</td>\n",
              "    </tr>\n",
              "    <tr>\n",
              "      <th>2</th>\n",
              "      <td>https://www.instagram.com/p/CbCOOTLpoYH/</td>\n",
              "      <td>selamat berakhir pekan meskipun tanpa ayang</td>\n",
              "    </tr>\n",
              "    <tr>\n",
              "      <th>3</th>\n",
              "      <td>https://www.instagram.com/p/CNEGFpyJVDz/</td>\n",
              "      <td>mari bercocok taman membuat rumah ikan thumbs ...</td>\n",
              "    </tr>\n",
              "    <tr>\n",
              "      <th>4</th>\n",
              "      <td>https://www.instagram.com/p/Cs7_XrmO358/</td>\n",
              "      <td>persistent goes to mangrove</td>\n",
              "    </tr>\n",
              "  </tbody>\n",
              "</table>\n",
              "</div>\n",
              "      <button class=\"colab-df-convert\" onclick=\"convertToInteractive('df-478b3ea7-2308-4956-9223-451b696d1541')\"\n",
              "              title=\"Convert this dataframe to an interactive table.\"\n",
              "              style=\"display:none;\">\n",
              "        \n",
              "  <svg xmlns=\"http://www.w3.org/2000/svg\" height=\"24px\"viewBox=\"0 0 24 24\"\n",
              "       width=\"24px\">\n",
              "    <path d=\"M0 0h24v24H0V0z\" fill=\"none\"/>\n",
              "    <path d=\"M18.56 5.44l.94 2.06.94-2.06 2.06-.94-2.06-.94-.94-2.06-.94 2.06-2.06.94zm-11 1L8.5 8.5l.94-2.06 2.06-.94-2.06-.94L8.5 2.5l-.94 2.06-2.06.94zm10 10l.94 2.06.94-2.06 2.06-.94-2.06-.94-.94-2.06-.94 2.06-2.06.94z\"/><path d=\"M17.41 7.96l-1.37-1.37c-.4-.4-.92-.59-1.43-.59-.52 0-1.04.2-1.43.59L10.3 9.45l-7.72 7.72c-.78.78-.78 2.05 0 2.83L4 21.41c.39.39.9.59 1.41.59.51 0 1.02-.2 1.41-.59l7.78-7.78 2.81-2.81c.8-.78.8-2.07 0-2.86zM5.41 20L4 18.59l7.72-7.72 1.47 1.35L5.41 20z\"/>\n",
              "  </svg>\n",
              "      </button>\n",
              "      \n",
              "  <style>\n",
              "    .colab-df-container {\n",
              "      display:flex;\n",
              "      flex-wrap:wrap;\n",
              "      gap: 12px;\n",
              "    }\n",
              "\n",
              "    .colab-df-convert {\n",
              "      background-color: #E8F0FE;\n",
              "      border: none;\n",
              "      border-radius: 50%;\n",
              "      cursor: pointer;\n",
              "      display: none;\n",
              "      fill: #1967D2;\n",
              "      height: 32px;\n",
              "      padding: 0 0 0 0;\n",
              "      width: 32px;\n",
              "    }\n",
              "\n",
              "    .colab-df-convert:hover {\n",
              "      background-color: #E2EBFA;\n",
              "      box-shadow: 0px 1px 2px rgba(60, 64, 67, 0.3), 0px 1px 3px 1px rgba(60, 64, 67, 0.15);\n",
              "      fill: #174EA6;\n",
              "    }\n",
              "\n",
              "    [theme=dark] .colab-df-convert {\n",
              "      background-color: #3B4455;\n",
              "      fill: #D2E3FC;\n",
              "    }\n",
              "\n",
              "    [theme=dark] .colab-df-convert:hover {\n",
              "      background-color: #434B5C;\n",
              "      box-shadow: 0px 1px 3px 1px rgba(0, 0, 0, 0.15);\n",
              "      filter: drop-shadow(0px 1px 2px rgba(0, 0, 0, 0.3));\n",
              "      fill: #FFFFFF;\n",
              "    }\n",
              "  </style>\n",
              "\n",
              "      <script>\n",
              "        const buttonEl =\n",
              "          document.querySelector('#df-478b3ea7-2308-4956-9223-451b696d1541 button.colab-df-convert');\n",
              "        buttonEl.style.display =\n",
              "          google.colab.kernel.accessAllowed ? 'block' : 'none';\n",
              "\n",
              "        async function convertToInteractive(key) {\n",
              "          const element = document.querySelector('#df-478b3ea7-2308-4956-9223-451b696d1541');\n",
              "          const dataTable =\n",
              "            await google.colab.kernel.invokeFunction('convertToInteractive',\n",
              "                                                     [key], {});\n",
              "          if (!dataTable) return;\n",
              "\n",
              "          const docLinkHtml = 'Like what you see? Visit the ' +\n",
              "            '<a target=\"_blank\" href=https://colab.research.google.com/notebooks/data_table.ipynb>data table notebook</a>'\n",
              "            + ' to learn more about interactive tables.';\n",
              "          element.innerHTML = '';\n",
              "          dataTable['output_type'] = 'display_data';\n",
              "          await google.colab.output.renderOutput(dataTable, element);\n",
              "          const docLink = document.createElement('div');\n",
              "          docLink.innerHTML = docLinkHtml;\n",
              "          element.appendChild(docLink);\n",
              "        }\n",
              "      </script>\n",
              "    </div>\n",
              "  </div>\n",
              "  "
            ]
          },
          "metadata": {},
          "execution_count": 439
        }
      ],
      "source": [
        "all_df.head()"
      ]
    },
    {
      "cell_type": "code",
      "execution_count": 440,
      "metadata": {
        "id": "KDtnL66WQ5R8"
      },
      "outputs": [],
      "source": [
        "# REMOVE ALAY WORDS\n",
        "alay_df = pd.read_csv('colloquial-indonesian-lexicon.csv')\n",
        "alay_dict = dict(zip(alay_df['slang'], alay_df['formal']))\n",
        "\n",
        "def remove_alay(text):\n",
        "  return ' '.join(alay_dict[word] if word in alay_dict else word for word in text.split(' '))"
      ]
    },
    {
      "cell_type": "code",
      "execution_count": 441,
      "metadata": {
        "id": "p6uYClIwaaOk"
      },
      "outputs": [],
      "source": [
        "all_df['hasil'] = all_df['hasil'].apply(lambda x: remove_alay(x))"
      ]
    },
    {
      "cell_type": "code",
      "execution_count": 442,
      "metadata": {
        "colab": {
          "base_uri": "https://localhost:8080/",
          "height": 206
        },
        "id": "HyqlLsaJmelL",
        "outputId": "3f06be33-65c2-4ed9-caaf-1423b856603c"
      },
      "outputs": [
        {
          "output_type": "execute_result",
          "data": {
            "text/plain": [
              "                                       link  \\\n",
              "0  https://www.instagram.com/p/CELtE7SHVZf/   \n",
              "1  https://www.instagram.com/p/CopdT8YL1ai/   \n",
              "2  https://www.instagram.com/p/CbCOOTLpoYH/   \n",
              "3  https://www.instagram.com/p/CNEGFpyJVDz/   \n",
              "4  https://www.instagram.com/p/Cs7_XrmO358/   \n",
              "\n",
              "                                               hasil  \n",
              "0  cinta bermula dari mata jadi enggak heran jika...  \n",
              "1  street photography mangrove finale part nsuppo...  \n",
              "2        selamat berakhir pekan meskipun tanpa ayang  \n",
              "3  mari bercocok taman membuat rumah ikan thumbs ...  \n",
              "4                      persistent goes tapi mangrove  "
            ],
            "text/html": [
              "\n",
              "  <div id=\"df-070ece1a-108c-4fc9-84f3-68124082f360\">\n",
              "    <div class=\"colab-df-container\">\n",
              "      <div>\n",
              "<style scoped>\n",
              "    .dataframe tbody tr th:only-of-type {\n",
              "        vertical-align: middle;\n",
              "    }\n",
              "\n",
              "    .dataframe tbody tr th {\n",
              "        vertical-align: top;\n",
              "    }\n",
              "\n",
              "    .dataframe thead th {\n",
              "        text-align: right;\n",
              "    }\n",
              "</style>\n",
              "<table border=\"1\" class=\"dataframe\">\n",
              "  <thead>\n",
              "    <tr style=\"text-align: right;\">\n",
              "      <th></th>\n",
              "      <th>link</th>\n",
              "      <th>hasil</th>\n",
              "    </tr>\n",
              "  </thead>\n",
              "  <tbody>\n",
              "    <tr>\n",
              "      <th>0</th>\n",
              "      <td>https://www.instagram.com/p/CELtE7SHVZf/</td>\n",
              "      <td>cinta bermula dari mata jadi enggak heran jika...</td>\n",
              "    </tr>\n",
              "    <tr>\n",
              "      <th>1</th>\n",
              "      <td>https://www.instagram.com/p/CopdT8YL1ai/</td>\n",
              "      <td>street photography mangrove finale part nsuppo...</td>\n",
              "    </tr>\n",
              "    <tr>\n",
              "      <th>2</th>\n",
              "      <td>https://www.instagram.com/p/CbCOOTLpoYH/</td>\n",
              "      <td>selamat berakhir pekan meskipun tanpa ayang</td>\n",
              "    </tr>\n",
              "    <tr>\n",
              "      <th>3</th>\n",
              "      <td>https://www.instagram.com/p/CNEGFpyJVDz/</td>\n",
              "      <td>mari bercocok taman membuat rumah ikan thumbs ...</td>\n",
              "    </tr>\n",
              "    <tr>\n",
              "      <th>4</th>\n",
              "      <td>https://www.instagram.com/p/Cs7_XrmO358/</td>\n",
              "      <td>persistent goes tapi mangrove</td>\n",
              "    </tr>\n",
              "  </tbody>\n",
              "</table>\n",
              "</div>\n",
              "      <button class=\"colab-df-convert\" onclick=\"convertToInteractive('df-070ece1a-108c-4fc9-84f3-68124082f360')\"\n",
              "              title=\"Convert this dataframe to an interactive table.\"\n",
              "              style=\"display:none;\">\n",
              "        \n",
              "  <svg xmlns=\"http://www.w3.org/2000/svg\" height=\"24px\"viewBox=\"0 0 24 24\"\n",
              "       width=\"24px\">\n",
              "    <path d=\"M0 0h24v24H0V0z\" fill=\"none\"/>\n",
              "    <path d=\"M18.56 5.44l.94 2.06.94-2.06 2.06-.94-2.06-.94-.94-2.06-.94 2.06-2.06.94zm-11 1L8.5 8.5l.94-2.06 2.06-.94-2.06-.94L8.5 2.5l-.94 2.06-2.06.94zm10 10l.94 2.06.94-2.06 2.06-.94-2.06-.94-.94-2.06-.94 2.06-2.06.94z\"/><path d=\"M17.41 7.96l-1.37-1.37c-.4-.4-.92-.59-1.43-.59-.52 0-1.04.2-1.43.59L10.3 9.45l-7.72 7.72c-.78.78-.78 2.05 0 2.83L4 21.41c.39.39.9.59 1.41.59.51 0 1.02-.2 1.41-.59l7.78-7.78 2.81-2.81c.8-.78.8-2.07 0-2.86zM5.41 20L4 18.59l7.72-7.72 1.47 1.35L5.41 20z\"/>\n",
              "  </svg>\n",
              "      </button>\n",
              "      \n",
              "  <style>\n",
              "    .colab-df-container {\n",
              "      display:flex;\n",
              "      flex-wrap:wrap;\n",
              "      gap: 12px;\n",
              "    }\n",
              "\n",
              "    .colab-df-convert {\n",
              "      background-color: #E8F0FE;\n",
              "      border: none;\n",
              "      border-radius: 50%;\n",
              "      cursor: pointer;\n",
              "      display: none;\n",
              "      fill: #1967D2;\n",
              "      height: 32px;\n",
              "      padding: 0 0 0 0;\n",
              "      width: 32px;\n",
              "    }\n",
              "\n",
              "    .colab-df-convert:hover {\n",
              "      background-color: #E2EBFA;\n",
              "      box-shadow: 0px 1px 2px rgba(60, 64, 67, 0.3), 0px 1px 3px 1px rgba(60, 64, 67, 0.15);\n",
              "      fill: #174EA6;\n",
              "    }\n",
              "\n",
              "    [theme=dark] .colab-df-convert {\n",
              "      background-color: #3B4455;\n",
              "      fill: #D2E3FC;\n",
              "    }\n",
              "\n",
              "    [theme=dark] .colab-df-convert:hover {\n",
              "      background-color: #434B5C;\n",
              "      box-shadow: 0px 1px 3px 1px rgba(0, 0, 0, 0.15);\n",
              "      filter: drop-shadow(0px 1px 2px rgba(0, 0, 0, 0.3));\n",
              "      fill: #FFFFFF;\n",
              "    }\n",
              "  </style>\n",
              "\n",
              "      <script>\n",
              "        const buttonEl =\n",
              "          document.querySelector('#df-070ece1a-108c-4fc9-84f3-68124082f360 button.colab-df-convert');\n",
              "        buttonEl.style.display =\n",
              "          google.colab.kernel.accessAllowed ? 'block' : 'none';\n",
              "\n",
              "        async function convertToInteractive(key) {\n",
              "          const element = document.querySelector('#df-070ece1a-108c-4fc9-84f3-68124082f360');\n",
              "          const dataTable =\n",
              "            await google.colab.kernel.invokeFunction('convertToInteractive',\n",
              "                                                     [key], {});\n",
              "          if (!dataTable) return;\n",
              "\n",
              "          const docLinkHtml = 'Like what you see? Visit the ' +\n",
              "            '<a target=\"_blank\" href=https://colab.research.google.com/notebooks/data_table.ipynb>data table notebook</a>'\n",
              "            + ' to learn more about interactive tables.';\n",
              "          element.innerHTML = '';\n",
              "          dataTable['output_type'] = 'display_data';\n",
              "          await google.colab.output.renderOutput(dataTable, element);\n",
              "          const docLink = document.createElement('div');\n",
              "          docLink.innerHTML = docLinkHtml;\n",
              "          element.appendChild(docLink);\n",
              "        }\n",
              "      </script>\n",
              "    </div>\n",
              "  </div>\n",
              "  "
            ]
          },
          "metadata": {},
          "execution_count": 442
        }
      ],
      "source": [
        "all_df.head()"
      ]
    },
    {
      "cell_type": "code",
      "execution_count": 443,
      "metadata": {
        "id": "jTw0p_KaQRY3"
      },
      "outputs": [],
      "source": [
        "# REMOVE STOPWORDS\n",
        "def remove_stopwords(text):\n",
        "  sw_indonesia = stopwords.words(\"indonesian\")\n",
        "  sw_inggris = stopwords.words(\"english\")\n",
        "\n",
        "  hasil = []\n",
        "  for word in text.split():\n",
        "    if word in sw_indonesia or word in sw_inggris:\n",
        "      hasil.append('')\n",
        "    else:\n",
        "      hasil.append(word)\n",
        "\n",
        "  return (\" \".join(hasil))"
      ]
    },
    {
      "cell_type": "code",
      "execution_count": 444,
      "metadata": {
        "id": "WGBt2hhLh789"
      },
      "outputs": [],
      "source": [
        "# SASTRAWI\n",
        "def remove_sastrawi(text):\n",
        "  factory = StopWordRemoverFactory()\n",
        "  stopword_remover = factory.create_stop_word_remover()\n",
        "  text = stopword_remover.remove(text)\n",
        "  return text"
      ]
    },
    {
      "cell_type": "code",
      "execution_count": 445,
      "metadata": {
        "id": "C-ei8FyCa14B"
      },
      "outputs": [],
      "source": [
        "all_df['hasil'] = all_df['hasil'].apply(lambda x: remove_stopwords(x))\n",
        "all_df['hasil'] = all_df['hasil'].apply(lambda x: remove_sastrawi(x))"
      ]
    },
    {
      "cell_type": "code",
      "execution_count": 446,
      "metadata": {
        "colab": {
          "base_uri": "https://localhost:8080/",
          "height": 206
        },
        "id": "TAS6KlNMdizD",
        "outputId": "d1274028-37c3-497b-a4c1-a8cf2acba342"
      },
      "outputs": [
        {
          "output_type": "execute_result",
          "data": {
            "text/plain": [
              "                                       link  \\\n",
              "0  https://www.instagram.com/p/CELtE7SHVZf/   \n",
              "1  https://www.instagram.com/p/CopdT8YL1ai/   \n",
              "2  https://www.instagram.com/p/CbCOOTLpoYH/   \n",
              "3  https://www.instagram.com/p/CNEGFpyJVDz/   \n",
              "4  https://www.instagram.com/p/Cs7_XrmO358/   \n",
              "\n",
              "                                               hasil  \n",
              "0  cinta   mata   heran  cinta    air mata anjimm...  \n",
              "1  street photography mangrove finale part nsuppo...  \n",
              "2                             selamat  pekan   ayang  \n",
              "3  bercocok taman  rumah ikan thumbs  dark skin t...  \n",
              "4                          persistent goes  mangrove  "
            ],
            "text/html": [
              "\n",
              "  <div id=\"df-99762f54-8a73-4c7e-a791-97bac7e47586\">\n",
              "    <div class=\"colab-df-container\">\n",
              "      <div>\n",
              "<style scoped>\n",
              "    .dataframe tbody tr th:only-of-type {\n",
              "        vertical-align: middle;\n",
              "    }\n",
              "\n",
              "    .dataframe tbody tr th {\n",
              "        vertical-align: top;\n",
              "    }\n",
              "\n",
              "    .dataframe thead th {\n",
              "        text-align: right;\n",
              "    }\n",
              "</style>\n",
              "<table border=\"1\" class=\"dataframe\">\n",
              "  <thead>\n",
              "    <tr style=\"text-align: right;\">\n",
              "      <th></th>\n",
              "      <th>link</th>\n",
              "      <th>hasil</th>\n",
              "    </tr>\n",
              "  </thead>\n",
              "  <tbody>\n",
              "    <tr>\n",
              "      <th>0</th>\n",
              "      <td>https://www.instagram.com/p/CELtE7SHVZf/</td>\n",
              "      <td>cinta   mata   heran  cinta    air mata anjimm...</td>\n",
              "    </tr>\n",
              "    <tr>\n",
              "      <th>1</th>\n",
              "      <td>https://www.instagram.com/p/CopdT8YL1ai/</td>\n",
              "      <td>street photography mangrove finale part nsuppo...</td>\n",
              "    </tr>\n",
              "    <tr>\n",
              "      <th>2</th>\n",
              "      <td>https://www.instagram.com/p/CbCOOTLpoYH/</td>\n",
              "      <td>selamat  pekan   ayang</td>\n",
              "    </tr>\n",
              "    <tr>\n",
              "      <th>3</th>\n",
              "      <td>https://www.instagram.com/p/CNEGFpyJVDz/</td>\n",
              "      <td>bercocok taman  rumah ikan thumbs  dark skin t...</td>\n",
              "    </tr>\n",
              "    <tr>\n",
              "      <th>4</th>\n",
              "      <td>https://www.instagram.com/p/Cs7_XrmO358/</td>\n",
              "      <td>persistent goes  mangrove</td>\n",
              "    </tr>\n",
              "  </tbody>\n",
              "</table>\n",
              "</div>\n",
              "      <button class=\"colab-df-convert\" onclick=\"convertToInteractive('df-99762f54-8a73-4c7e-a791-97bac7e47586')\"\n",
              "              title=\"Convert this dataframe to an interactive table.\"\n",
              "              style=\"display:none;\">\n",
              "        \n",
              "  <svg xmlns=\"http://www.w3.org/2000/svg\" height=\"24px\"viewBox=\"0 0 24 24\"\n",
              "       width=\"24px\">\n",
              "    <path d=\"M0 0h24v24H0V0z\" fill=\"none\"/>\n",
              "    <path d=\"M18.56 5.44l.94 2.06.94-2.06 2.06-.94-2.06-.94-.94-2.06-.94 2.06-2.06.94zm-11 1L8.5 8.5l.94-2.06 2.06-.94-2.06-.94L8.5 2.5l-.94 2.06-2.06.94zm10 10l.94 2.06.94-2.06 2.06-.94-2.06-.94-.94-2.06-.94 2.06-2.06.94z\"/><path d=\"M17.41 7.96l-1.37-1.37c-.4-.4-.92-.59-1.43-.59-.52 0-1.04.2-1.43.59L10.3 9.45l-7.72 7.72c-.78.78-.78 2.05 0 2.83L4 21.41c.39.39.9.59 1.41.59.51 0 1.02-.2 1.41-.59l7.78-7.78 2.81-2.81c.8-.78.8-2.07 0-2.86zM5.41 20L4 18.59l7.72-7.72 1.47 1.35L5.41 20z\"/>\n",
              "  </svg>\n",
              "      </button>\n",
              "      \n",
              "  <style>\n",
              "    .colab-df-container {\n",
              "      display:flex;\n",
              "      flex-wrap:wrap;\n",
              "      gap: 12px;\n",
              "    }\n",
              "\n",
              "    .colab-df-convert {\n",
              "      background-color: #E8F0FE;\n",
              "      border: none;\n",
              "      border-radius: 50%;\n",
              "      cursor: pointer;\n",
              "      display: none;\n",
              "      fill: #1967D2;\n",
              "      height: 32px;\n",
              "      padding: 0 0 0 0;\n",
              "      width: 32px;\n",
              "    }\n",
              "\n",
              "    .colab-df-convert:hover {\n",
              "      background-color: #E2EBFA;\n",
              "      box-shadow: 0px 1px 2px rgba(60, 64, 67, 0.3), 0px 1px 3px 1px rgba(60, 64, 67, 0.15);\n",
              "      fill: #174EA6;\n",
              "    }\n",
              "\n",
              "    [theme=dark] .colab-df-convert {\n",
              "      background-color: #3B4455;\n",
              "      fill: #D2E3FC;\n",
              "    }\n",
              "\n",
              "    [theme=dark] .colab-df-convert:hover {\n",
              "      background-color: #434B5C;\n",
              "      box-shadow: 0px 1px 3px 1px rgba(0, 0, 0, 0.15);\n",
              "      filter: drop-shadow(0px 1px 2px rgba(0, 0, 0, 0.3));\n",
              "      fill: #FFFFFF;\n",
              "    }\n",
              "  </style>\n",
              "\n",
              "      <script>\n",
              "        const buttonEl =\n",
              "          document.querySelector('#df-99762f54-8a73-4c7e-a791-97bac7e47586 button.colab-df-convert');\n",
              "        buttonEl.style.display =\n",
              "          google.colab.kernel.accessAllowed ? 'block' : 'none';\n",
              "\n",
              "        async function convertToInteractive(key) {\n",
              "          const element = document.querySelector('#df-99762f54-8a73-4c7e-a791-97bac7e47586');\n",
              "          const dataTable =\n",
              "            await google.colab.kernel.invokeFunction('convertToInteractive',\n",
              "                                                     [key], {});\n",
              "          if (!dataTable) return;\n",
              "\n",
              "          const docLinkHtml = 'Like what you see? Visit the ' +\n",
              "            '<a target=\"_blank\" href=https://colab.research.google.com/notebooks/data_table.ipynb>data table notebook</a>'\n",
              "            + ' to learn more about interactive tables.';\n",
              "          element.innerHTML = '';\n",
              "          dataTable['output_type'] = 'display_data';\n",
              "          await google.colab.output.renderOutput(dataTable, element);\n",
              "          const docLink = document.createElement('div');\n",
              "          docLink.innerHTML = docLinkHtml;\n",
              "          element.appendChild(docLink);\n",
              "        }\n",
              "      </script>\n",
              "    </div>\n",
              "  </div>\n",
              "  "
            ]
          },
          "metadata": {},
          "execution_count": 446
        }
      ],
      "source": [
        "all_df.head()"
      ]
    },
    {
      "cell_type": "code",
      "execution_count": 447,
      "metadata": {
        "id": "3kga9cXwcrgK"
      },
      "outputs": [],
      "source": [
        "# Menghapus kata slang pada data twitter yang telah dibersihkan sebelumnya\n",
        "slang_dict = {\n",
        "    \"u\": \"\",\"ya\":\"\",\"kak\": \"\",\"lfl\": \"\",\"yg\":\"\",\"by\":\"\",\"my\":\"\",\"n\":\"\",\n",
        "    \"is\":\"\",\"nih\":\"\",\"d\":\"\",\"lb\": \"\",\"gr\": \"\",\"wes\": \"sudah\",\"cr\":\"\",\"the\":\"\",\n",
        "    \"fff\":\"\",\"cm\":\"\",\"x\":\"\",\"yuk\":\"ayo\",\"ootd\":\"\",\"to\":\"\",\"om\":\"\",\"e\":\"\",\n",
        "    \"n\":\"\",\"p\":\"\",\"mas\":\"\",\"nya\":\"\",\"ga\":\"tidak\",\"nya\":\"\",\"gak\":\"tidak\",\"tak\":\"tidak\",\n",
        "    \"rt\":\"\",\"gunung\":\"\",\"anyar\":\"\",\"mangrove\":\"\",\"wonorejo\":\"\",\"surabaya\":\"\",\"hutan\":\"\",\n",
        "    \"hutan\":\"\",\"indonesia\":\"\",\"medokan\":\"\",\"tambak\":\"\",\"kebun\":\"\",\"timur\":\"\",\"mangrovesurabaya\":\"\",\"forest\":\"\",\n",
        "    \"sungai\":\"\",\"forest\":\"\",\"earth\":\"\",\"jatim\":\"\",\"pantai\":\"\",\"aku\":\"\",\"kenjeran\":\"\",\"mangrovewonorejo\":\"\",\n",
        "    \"mangrovegununganyar\":\"\",\"east\":\"\",\"mangrovegununganyar\":\"\",\"asliareksuroboyo\":\"\",\"aslisuroboyo\":\"\",\n",
        "    \"banggasurabaya\":\"\",\"infosurabaya\":\"\",\"suroboyo\":\"\",\"hutanbambukeputih \":\"\",\n",
        "    \"surabayapunyacerita\":\"\",\"pojoksurabaya\":\"\",\"exploresurabaya\":\"\",\"kebunbibitsurabaya\":\"\",\n",
        "    \"wisatasurabaya\":\"\",\"surabayaphotography\":\"\",\"preweddingsurabaya\":\"\",\"cfdsurabaya\":\"\",\n",
        "    \"sidoarjo\":\"\",\"button\":\"\",\"kenpark\":\"\",\"banggasidoarjo\":\"\",\"tamanbungkul\":\"\",\"surabayaphotographer\":\"\",\n",
        "    \"kenjeranpark\":\"\",\"preweddingsidoarjo\":\"\", 'areksuroboyo': '', 'surabayaprewedding': '', 'preweddingmalang': '', 'photographysidoarjo': '', 'krian': '', 'wisatamangrove': '',\n",
        "    \"explorejawatimur\":\"\",'wisatamangrovesurabaya': '', 'menit': '', 'ekowisatamangrove': '',\n",
        "    \"rungkut\":\"\",\"berjilbabnya\":\"\",\"ekowisata\":\"\",\"hutanmangrove\":\"\",\"i\":\"\"\n",
        "    }"
      ]
    },
    {
      "cell_type": "code",
      "execution_count": 448,
      "metadata": {
        "id": "25xO1jg3QXKp"
      },
      "outputs": [],
      "source": [
        "# REMOVE SLANG\n",
        "def remove_slang(text):\n",
        "  return ' '.join(slang_dict[word] if word in slang_dict else word for word in text.split(' '))\n",
        "\n",
        "all_df['hasil'] = all_df['hasil'].apply(lambda x: remove_slang(x))"
      ]
    },
    {
      "cell_type": "code",
      "execution_count": 449,
      "metadata": {
        "colab": {
          "base_uri": "https://localhost:8080/",
          "height": 206
        },
        "id": "NKB2BFpcsr1X",
        "outputId": "c34650a2-0c4b-4dbb-97a7-0c4f83dfdd6f"
      },
      "outputs": [
        {
          "output_type": "execute_result",
          "data": {
            "text/plain": [
              "                                       link  \\\n",
              "0  https://www.instagram.com/p/CELtE7SHVZf/   \n",
              "1  https://www.instagram.com/p/CopdT8YL1ai/   \n",
              "2  https://www.instagram.com/p/CbCOOTLpoYH/   \n",
              "3  https://www.instagram.com/p/CNEGFpyJVDz/   \n",
              "4  https://www.instagram.com/p/Cs7_XrmO358/   \n",
              "\n",
              "                                               hasil  \n",
              "0  cinta   mata   heran  cinta    air mata anjimm...  \n",
              "1  street photography  finale part nsupport editi...  \n",
              "2                             selamat  pekan   ayang  \n",
              "3  bercocok taman  rumah ikan thumbs  dark skin t...  \n",
              "4                                  persistent goes    "
            ],
            "text/html": [
              "\n",
              "  <div id=\"df-4298596c-0a52-478d-ad9c-0fe0df701122\">\n",
              "    <div class=\"colab-df-container\">\n",
              "      <div>\n",
              "<style scoped>\n",
              "    .dataframe tbody tr th:only-of-type {\n",
              "        vertical-align: middle;\n",
              "    }\n",
              "\n",
              "    .dataframe tbody tr th {\n",
              "        vertical-align: top;\n",
              "    }\n",
              "\n",
              "    .dataframe thead th {\n",
              "        text-align: right;\n",
              "    }\n",
              "</style>\n",
              "<table border=\"1\" class=\"dataframe\">\n",
              "  <thead>\n",
              "    <tr style=\"text-align: right;\">\n",
              "      <th></th>\n",
              "      <th>link</th>\n",
              "      <th>hasil</th>\n",
              "    </tr>\n",
              "  </thead>\n",
              "  <tbody>\n",
              "    <tr>\n",
              "      <th>0</th>\n",
              "      <td>https://www.instagram.com/p/CELtE7SHVZf/</td>\n",
              "      <td>cinta   mata   heran  cinta    air mata anjimm...</td>\n",
              "    </tr>\n",
              "    <tr>\n",
              "      <th>1</th>\n",
              "      <td>https://www.instagram.com/p/CopdT8YL1ai/</td>\n",
              "      <td>street photography  finale part nsupport editi...</td>\n",
              "    </tr>\n",
              "    <tr>\n",
              "      <th>2</th>\n",
              "      <td>https://www.instagram.com/p/CbCOOTLpoYH/</td>\n",
              "      <td>selamat  pekan   ayang</td>\n",
              "    </tr>\n",
              "    <tr>\n",
              "      <th>3</th>\n",
              "      <td>https://www.instagram.com/p/CNEGFpyJVDz/</td>\n",
              "      <td>bercocok taman  rumah ikan thumbs  dark skin t...</td>\n",
              "    </tr>\n",
              "    <tr>\n",
              "      <th>4</th>\n",
              "      <td>https://www.instagram.com/p/Cs7_XrmO358/</td>\n",
              "      <td>persistent goes</td>\n",
              "    </tr>\n",
              "  </tbody>\n",
              "</table>\n",
              "</div>\n",
              "      <button class=\"colab-df-convert\" onclick=\"convertToInteractive('df-4298596c-0a52-478d-ad9c-0fe0df701122')\"\n",
              "              title=\"Convert this dataframe to an interactive table.\"\n",
              "              style=\"display:none;\">\n",
              "        \n",
              "  <svg xmlns=\"http://www.w3.org/2000/svg\" height=\"24px\"viewBox=\"0 0 24 24\"\n",
              "       width=\"24px\">\n",
              "    <path d=\"M0 0h24v24H0V0z\" fill=\"none\"/>\n",
              "    <path d=\"M18.56 5.44l.94 2.06.94-2.06 2.06-.94-2.06-.94-.94-2.06-.94 2.06-2.06.94zm-11 1L8.5 8.5l.94-2.06 2.06-.94-2.06-.94L8.5 2.5l-.94 2.06-2.06.94zm10 10l.94 2.06.94-2.06 2.06-.94-2.06-.94-.94-2.06-.94 2.06-2.06.94z\"/><path d=\"M17.41 7.96l-1.37-1.37c-.4-.4-.92-.59-1.43-.59-.52 0-1.04.2-1.43.59L10.3 9.45l-7.72 7.72c-.78.78-.78 2.05 0 2.83L4 21.41c.39.39.9.59 1.41.59.51 0 1.02-.2 1.41-.59l7.78-7.78 2.81-2.81c.8-.78.8-2.07 0-2.86zM5.41 20L4 18.59l7.72-7.72 1.47 1.35L5.41 20z\"/>\n",
              "  </svg>\n",
              "      </button>\n",
              "      \n",
              "  <style>\n",
              "    .colab-df-container {\n",
              "      display:flex;\n",
              "      flex-wrap:wrap;\n",
              "      gap: 12px;\n",
              "    }\n",
              "\n",
              "    .colab-df-convert {\n",
              "      background-color: #E8F0FE;\n",
              "      border: none;\n",
              "      border-radius: 50%;\n",
              "      cursor: pointer;\n",
              "      display: none;\n",
              "      fill: #1967D2;\n",
              "      height: 32px;\n",
              "      padding: 0 0 0 0;\n",
              "      width: 32px;\n",
              "    }\n",
              "\n",
              "    .colab-df-convert:hover {\n",
              "      background-color: #E2EBFA;\n",
              "      box-shadow: 0px 1px 2px rgba(60, 64, 67, 0.3), 0px 1px 3px 1px rgba(60, 64, 67, 0.15);\n",
              "      fill: #174EA6;\n",
              "    }\n",
              "\n",
              "    [theme=dark] .colab-df-convert {\n",
              "      background-color: #3B4455;\n",
              "      fill: #D2E3FC;\n",
              "    }\n",
              "\n",
              "    [theme=dark] .colab-df-convert:hover {\n",
              "      background-color: #434B5C;\n",
              "      box-shadow: 0px 1px 3px 1px rgba(0, 0, 0, 0.15);\n",
              "      filter: drop-shadow(0px 1px 2px rgba(0, 0, 0, 0.3));\n",
              "      fill: #FFFFFF;\n",
              "    }\n",
              "  </style>\n",
              "\n",
              "      <script>\n",
              "        const buttonEl =\n",
              "          document.querySelector('#df-4298596c-0a52-478d-ad9c-0fe0df701122 button.colab-df-convert');\n",
              "        buttonEl.style.display =\n",
              "          google.colab.kernel.accessAllowed ? 'block' : 'none';\n",
              "\n",
              "        async function convertToInteractive(key) {\n",
              "          const element = document.querySelector('#df-4298596c-0a52-478d-ad9c-0fe0df701122');\n",
              "          const dataTable =\n",
              "            await google.colab.kernel.invokeFunction('convertToInteractive',\n",
              "                                                     [key], {});\n",
              "          if (!dataTable) return;\n",
              "\n",
              "          const docLinkHtml = 'Like what you see? Visit the ' +\n",
              "            '<a target=\"_blank\" href=https://colab.research.google.com/notebooks/data_table.ipynb>data table notebook</a>'\n",
              "            + ' to learn more about interactive tables.';\n",
              "          element.innerHTML = '';\n",
              "          dataTable['output_type'] = 'display_data';\n",
              "          await google.colab.output.renderOutput(dataTable, element);\n",
              "          const docLink = document.createElement('div');\n",
              "          docLink.innerHTML = docLinkHtml;\n",
              "          element.appendChild(docLink);\n",
              "        }\n",
              "      </script>\n",
              "    </div>\n",
              "  </div>\n",
              "  "
            ]
          },
          "metadata": {},
          "execution_count": 449
        }
      ],
      "source": [
        "all_df.head()"
      ]
    },
    {
      "cell_type": "code",
      "execution_count": 450,
      "metadata": {
        "id": "2UVOqGdsQYUh"
      },
      "outputs": [],
      "source": [
        "# FUNGSI UNTUK DETEKSI ADANYA NOMOR TELEFON\n",
        "def detect_phone(text):\n",
        "    pattern = r\"\\b(?:\\+62|62|0)(?:[-.\\s]?(?:\\d[-.\\s]?){8,11}|(?<!\\/)\\d{8,11}(?!\\d))\\b\"\n",
        "    matches = re.findall(pattern, text)\n",
        "\n",
        "    pattern = r'\\+\\d{2}\\d{3}-\\d{4}-\\d{4}'\n",
        "    matches2 = re.findall(pattern, text)\n",
        "\n",
        "    if len(matches) > 0 or 'dijual' in text or len(matches2) > 0 or 'rumah' in text or 'link' in text or 'hunian' in text or 'promo' in text or 'property' in text or 'properti' in text:\n",
        "        return True\n",
        "    else:\n",
        "        return False"
      ]
    },
    {
      "cell_type": "code",
      "execution_count": 451,
      "metadata": {
        "colab": {
          "base_uri": "https://localhost:8080/"
        },
        "id": "P8UO_eeUUfdu",
        "outputId": "a0e4d1ea-ba9d-4b99-dc0d-eecd3dfeef68"
      },
      "outputs": [
        {
          "output_type": "stream",
          "name": "stdout",
          "text": [
            "Before length:  2856\n",
            "After length:  2312\n"
          ]
        }
      ],
      "source": [
        "# DROP CONTAINS NUMBER\n",
        "all_df_copy = all_df.copy()\n",
        "before = all_df_copy.shape[0]\n",
        "print(\"Before length: \", before)\n",
        "\n",
        "all_df_copy.reset_index(drop=True, inplace=True)\n",
        "\n",
        "for idx, text in enumerate(all_df_copy['hasil']):\n",
        "  if detect_phone(str(text)) == True:\n",
        "    all_df_copy.drop(idx, inplace=True)\n",
        "after = all_df_copy.shape[0]\n",
        "print(\"After length: \", after)"
      ]
    },
    {
      "cell_type": "code",
      "execution_count": 452,
      "metadata": {
        "colab": {
          "base_uri": "https://localhost:8080/",
          "height": 487
        },
        "id": "G3vzZM64OyEW",
        "outputId": "61ba4852-6127-4d11-9ae7-d51048a6ef6b"
      },
      "outputs": [
        {
          "output_type": "display_data",
          "data": {
            "text/plain": [
              "<Figure size 1000x500 with 1 Axes>"
            ],
            "image/png": "[encoded data removed]"
          },
          "metadata": {}
        }
      ],
      "source": [
        "# VISUALISASI DATA TERDETEKSI IKLAN\n",
        "labels = [\"iklan\", \"non-iklan\"]\n",
        "values = [before-after, after]\n",
        "\n",
        "fig = plt.figure(figsize = (10, 5))\n",
        "plt.bar(labels, values, color ='blue', width = 0.4)\n",
        "\n",
        "plt.xlabel(\"Iklan vs Non-Iklan\")\n",
        "plt.ylabel(\"Jumlah Data Terdeteksi\")\n",
        "plt.title(\"Persebaran Iklan\")\n",
        "plt.show()"
      ]
    },
    {
      "cell_type": "code",
      "execution_count": 453,
      "metadata": {
        "id": "erfyAlZHR3dk"
      },
      "outputs": [],
      "source": [
        "all_df_copy.to_csv(\"cleanHasil.csv\", sep=\";\")"
      ]
    },
    {
      "cell_type": "markdown",
      "metadata": {
        "id": "7dzV21sOTBRL"
      },
      "source": [
        "# ANALISIS"
      ]
    },
    {
      "cell_type": "code",
      "execution_count": 454,
      "metadata": {
        "id": "u3LtXB1TTCpS"
      },
      "outputs": [],
      "source": [
        "def char_freq_dist(data):\n",
        "    bins = np.arange(0,270,10)\n",
        "    plot_1 =plt.figure(1)\n",
        "    data.str.len().hist(bins=bins)\n",
        "    plt.title(\"Distribusi Jumlah Huruf \")\n",
        "\n",
        "def word_len_freq_dist(data):\n",
        "    bin_range = np.arange(0,50)\n",
        "    plot_2 =plt.figure(2)\n",
        "    data.str.split().map(lambda x: len(x)).hist(bins=bin_range)\n",
        "    plt.title(\"Distribusi Jumlah Kata\")\n",
        "\n",
        "def mean_word_freq_dist(data):\n",
        "    plot_3 =plt.figure(3)\n",
        "    data.str.split().apply(lambda x: [len(i) for i in x]).map(lambda x: np.mean(x)).hist()\n",
        "    plt.title(\"Distribusi Panjang Kata Rata-Rata\")\n",
        "\n",
        "def bigram_freq_dist(data):\n",
        "    data_to_list = [word for news in data for word in news.split()]\n",
        "    result = pd.Series(nltk.ngrams(data_to_list,2)).value_counts()[:20]\n",
        "    return result\n",
        "\n",
        "\n",
        "def wordcloud_visualization(data):\n",
        "    wcloud = WordCloud(width=1600, height=800, max_font_size=200).generate_from_frequencies(data)\n",
        "    plt.figure(figsize=(12,10))\n",
        "    plt.imshow(wcloud, interpolation=\"bilinear\")"
      ]
    },
    {
      "cell_type": "code",
      "execution_count": 455,
      "metadata": {
        "colab": {
          "base_uri": "https://localhost:8080/",
          "height": 1000
        },
        "id": "MGNVoUFaTFcZ",
        "outputId": "cbc72750-3bc7-462a-ec27-946b64782549"
      },
      "outputs": [
        {
          "output_type": "stream",
          "name": "stderr",
          "text": [
            "/usr/local/lib/python3.10/dist-packages/numpy/core/fromnumeric.py:3474: RuntimeWarning:\n",
            "\n",
            "Mean of empty slice.\n",
            "\n",
            "/usr/local/lib/python3.10/dist-packages/numpy/core/_methods.py:189: RuntimeWarning:\n",
            "\n",
            "invalid value encountered in double_scalars\n",
            "\n"
          ]
        },
        {
          "output_type": "stream",
          "name": "stdout",
          "text": [
            "(smiling, face)      616\n",
            "(face, heart)        417\n",
            "(heart, eyes)        417\n",
            "(minus, minus)       189\n",
            "(eyes, smiling)      189\n",
            "(red, heart)         187\n",
            "(tears, joy)         186\n",
            "(face, tears)        185\n",
            "(face, smiling)      178\n",
            "(smiling, eyes)      173\n",
            "(take, foto)          99\n",
            "(clapping, hands)     98\n",
            "(camera, flash)       86\n",
            "(folded, hands)       78\n",
            "(grinning, face)      76\n",
            "(skin, tone)          74\n",
            "(thumbs, thumbs)      72\n",
            "(joy, face)           69\n",
            "(beaming, face)       67\n",
            "(light, skin)         63\n",
            "dtype: int64\n"
          ]
        },
        {
          "output_type": "display_data",
          "data": {
            "text/plain": [
              "<Figure size 640x480 with 1 Axes>"
            ],
            "image/png": "[encoded data removed]"
          },
          "metadata": {}
        },
        {
          "output_type": "display_data",
          "data": {
            "text/plain": [
              "<Figure size 640x480 with 1 Axes>"
            ],
            "image/png": "[encoded data removed]"
          },
          "metadata": {}
        },
        {
          "output_type": "display_data",
          "data": {
            "text/plain": [
              "<Figure size 640x480 with 1 Axes>"
            ],
            "image/png": "[encoded data removed]"
          },
          "metadata": {}
        }
      ],
      "source": [
        "char_freq_dist(all_df_copy[\"hasil\"])\n",
        "word_len_freq_dist(all_df_copy[\"hasil\"])\n",
        "mean_word_freq_dist(all_df_copy[\"hasil\"])\n",
        "bigram = bigram_freq_dist(all_df_copy[\"hasil\"])\n",
        "print(bigram)\n",
        "plt.show()"
      ]
    },
    {
      "cell_type": "code",
      "execution_count": 456,
      "metadata": {
        "colab": {
          "base_uri": "https://localhost:8080/",
          "height": 424
        },
        "id": "IK8AKdQ5TVQg",
        "outputId": "ef9c6ceb-6626-4fe1-cb5b-f824bf1feb73"
      },
      "outputs": [
        {
          "output_type": "display_data",
          "data": {
            "text/plain": [
              "<Figure size 1000x600 with 1 Axes>"
            ],
            "image/png": "[encoded data removed]"
          },
          "metadata": {}
        }
      ],
      "source": [
        "#Visualisasi Word Cloud\n",
        "full = ''\n",
        "for komen in all_df_copy[\"hasil\"]:\n",
        "    full += komen\n",
        "words = full.split()\n",
        "\n",
        "word_count = Counter(words)\n",
        "top = word_count.most_common(30)\n",
        "word_freq = dict(top)\n",
        "\n",
        "wordcloud = WordCloud(width=800, height=400).generate_from_frequencies(word_freq)\n",
        "\n",
        "# Display the word cloud\n",
        "plt.figure(figsize=(10, 6))\n",
        "plt.imshow(wordcloud, interpolation='bilinear')\n",
        "plt.axis('off')\n",
        "plt.show()"
      ]
    },
    {
      "cell_type": "markdown",
      "metadata": {
        "id": "ju88j37AS1XF"
      },
      "source": [
        "# SENTIMENT ANALISIS"
      ]
    },
    {
      "cell_type": "markdown",
      "metadata": {
        "id": "uJdT58WXS3xT"
      },
      "source": [
        "## dengan daftar lexicon"
      ]
    },
    {
      "cell_type": "code",
      "execution_count": 457,
      "metadata": {
        "id": "HZQ9lAPBS631"
      },
      "outputs": [],
      "source": [
        "# REF: https://github.com/fajri91/InSet , word | weight\n",
        "positif_list = pd.read_table('positive.tsv')\n",
        "negatif_list = pd.read_table('negative.tsv')\n",
        "\n",
        "positif_list[\"weight\"] = positif_list[\"weight\"].astype(int)\n",
        "positif_list['wieght'] = (positif_list['weight'] - positif_list['weight'].min()) / (positif_list['weight'].max() - positif_list['weight'].min())\n",
        "negatif_list[\"weight\"] = negatif_list[\"weight\"].astype(int)\n",
        "negatif_list['wieght'] = (negatif_list['weight'] - negatif_list['weight'].min()) / (negatif_list['weight'].max() - negatif_list['weight'].min())"
      ]
    },
    {
      "cell_type": "code",
      "execution_count": 458,
      "metadata": {
        "id": "_LAzAr6STiLG"
      },
      "outputs": [],
      "source": [
        "df = pd.read_csv('SemEval2015-English-Twitter-Lexicon.txt', sep='\\t', header=None, names=['weight', 'word'])\n",
        "negative = df[df['weight'] < 0]\n",
        "positive = df[df['weight'] > 0]"
      ]
    },
    {
      "cell_type": "code",
      "execution_count": 459,
      "metadata": {
        "id": "1-MnUDBSTmKz"
      },
      "outputs": [],
      "source": [
        "def sentiment_analysis(data):\n",
        "  tweets = [tweet for tweet in data]\n",
        "  hasil = []\n",
        "  for tweet in tweets:\n",
        "      tweet_clean = tweet.strip().split()\n",
        "\n",
        "      good_count = 0\n",
        "      bad_count = 0\n",
        "\n",
        "      for idx, good_word in enumerate(positif_list[\"word\"]):\n",
        "          count = tweet_clean.count(good_word.strip().lower())\n",
        "          if count > 0:\n",
        "            good_count = good_count + (count * positif_list['weight'][idx])\n",
        "      for idx, good_word in enumerate(positive[\"word\"]):\n",
        "          count = tweet_clean.count(good_word.strip().lower())\n",
        "          if count > 0:\n",
        "            good_count = good_count + (count * positif_list['weight'][idx])\n",
        "\n",
        "      for bad_word in negatif_list[\"word\"]:\n",
        "          count = tweet_clean.count(bad_word.strip().lower())\n",
        "          if count > 0:\n",
        "            bad_count = bad_count + (count * negatif_list['weight'][idx])\n",
        "      for bad_word in negative[\"word\"]:\n",
        "          count = tweet_clean.count(bad_word.strip().lower())\n",
        "          if count > 0:\n",
        "            bad_count = bad_count + (count * negatif_list['weight'][idx])\n",
        "\n",
        "      hasil.append(good_count + bad_count)\n",
        "  return hasil"
      ]
    },
    {
      "cell_type": "code",
      "execution_count": 460,
      "metadata": {
        "colab": {
          "base_uri": "https://localhost:8080/",
          "height": 206
        },
        "id": "xIV8zJ5-Tsnl",
        "outputId": "0417e8b1-b2f7-4e12-e6b7-77797af350b9"
      },
      "outputs": [
        {
          "output_type": "execute_result",
          "data": {
            "text/plain": [
              "                                       link  \\\n",
              "0  https://www.instagram.com/p/CELtE7SHVZf/   \n",
              "1  https://www.instagram.com/p/CopdT8YL1ai/   \n",
              "2  https://www.instagram.com/p/CbCOOTLpoYH/   \n",
              "4  https://www.instagram.com/p/Cs7_XrmO358/   \n",
              "5  https://www.instagram.com/p/CG877Y9BuI4/   \n",
              "\n",
              "                                               hasil  sentiment  \n",
              "0  cinta   mata   heran  cinta    air mata anjimm...          0  \n",
              "1  street photography  finale part nsupport editi...          0  \n",
              "2                             selamat  pekan   ayang          2  \n",
              "4                                  persistent goes            1  \n",
              "5  halo nlong weekend kali   pergi    nkalau   bi...          0  "
            ],
            "text/html": [
              "\n",
              "  <div id=\"df-821b7514-1867-40c1-97a3-ff6e8fc19ed6\">\n",
              "    <div class=\"colab-df-container\">\n",
              "      <div>\n",
              "<style scoped>\n",
              "    .dataframe tbody tr th:only-of-type {\n",
              "        vertical-align: middle;\n",
              "    }\n",
              "\n",
              "    .dataframe tbody tr th {\n",
              "        vertical-align: top;\n",
              "    }\n",
              "\n",
              "    .dataframe thead th {\n",
              "        text-align: right;\n",
              "    }\n",
              "</style>\n",
              "<table border=\"1\" class=\"dataframe\">\n",
              "  <thead>\n",
              "    <tr style=\"text-align: right;\">\n",
              "      <th></th>\n",
              "      <th>link</th>\n",
              "      <th>hasil</th>\n",
              "      <th>sentiment</th>\n",
              "    </tr>\n",
              "  </thead>\n",
              "  <tbody>\n",
              "    <tr>\n",
              "      <th>0</th>\n",
              "      <td>https://www.instagram.com/p/CELtE7SHVZf/</td>\n",
              "      <td>cinta   mata   heran  cinta    air mata anjimm...</td>\n",
              "      <td>0</td>\n",
              "    </tr>\n",
              "    <tr>\n",
              "      <th>1</th>\n",
              "      <td>https://www.instagram.com/p/CopdT8YL1ai/</td>\n",
              "      <td>street photography  finale part nsupport editi...</td>\n",
              "      <td>0</td>\n",
              "    </tr>\n",
              "    <tr>\n",
              "      <th>2</th>\n",
              "      <td>https://www.instagram.com/p/CbCOOTLpoYH/</td>\n",
              "      <td>selamat  pekan   ayang</td>\n",
              "      <td>2</td>\n",
              "    </tr>\n",
              "    <tr>\n",
              "      <th>4</th>\n",
              "      <td>https://www.instagram.com/p/Cs7_XrmO358/</td>\n",
              "      <td>persistent goes</td>\n",
              "      <td>1</td>\n",
              "    </tr>\n",
              "    <tr>\n",
              "      <th>5</th>\n",
              "      <td>https://www.instagram.com/p/CG877Y9BuI4/</td>\n",
              "      <td>halo nlong weekend kali   pergi    nkalau   bi...</td>\n",
              "      <td>0</td>\n",
              "    </tr>\n",
              "  </tbody>\n",
              "</table>\n",
              "</div>\n",
              "      <button class=\"colab-df-convert\" onclick=\"convertToInteractive('df-821b7514-1867-40c1-97a3-ff6e8fc19ed6')\"\n",
              "              title=\"Convert this dataframe to an interactive table.\"\n",
              "              style=\"display:none;\">\n",
              "        \n",
              "  <svg xmlns=\"http://www.w3.org/2000/svg\" height=\"24px\"viewBox=\"0 0 24 24\"\n",
              "       width=\"24px\">\n",
              "    <path d=\"M0 0h24v24H0V0z\" fill=\"none\"/>\n",
              "    <path d=\"M18.56 5.44l.94 2.06.94-2.06 2.06-.94-2.06-.94-.94-2.06-.94 2.06-2.06.94zm-11 1L8.5 8.5l.94-2.06 2.06-.94-2.06-.94L8.5 2.5l-.94 2.06-2.06.94zm10 10l.94 2.06.94-2.06 2.06-.94-2.06-.94-.94-2.06-.94 2.06-2.06.94z\"/><path d=\"M17.41 7.96l-1.37-1.37c-.4-.4-.92-.59-1.43-.59-.52 0-1.04.2-1.43.59L10.3 9.45l-7.72 7.72c-.78.78-.78 2.05 0 2.83L4 21.41c.39.39.9.59 1.41.59.51 0 1.02-.2 1.41-.59l7.78-7.78 2.81-2.81c.8-.78.8-2.07 0-2.86zM5.41 20L4 18.59l7.72-7.72 1.47 1.35L5.41 20z\"/>\n",
              "  </svg>\n",
              "      </button>\n",
              "      \n",
              "  <style>\n",
              "    .colab-df-container {\n",
              "      display:flex;\n",
              "      flex-wrap:wrap;\n",
              "      gap: 12px;\n",
              "    }\n",
              "\n",
              "    .colab-df-convert {\n",
              "      background-color: #E8F0FE;\n",
              "      border: none;\n",
              "      border-radius: 50%;\n",
              "      cursor: pointer;\n",
              "      display: none;\n",
              "      fill: #1967D2;\n",
              "      height: 32px;\n",
              "      padding: 0 0 0 0;\n",
              "      width: 32px;\n",
              "    }\n",
              "\n",
              "    .colab-df-convert:hover {\n",
              "      background-color: #E2EBFA;\n",
              "      box-shadow: 0px 1px 2px rgba(60, 64, 67, 0.3), 0px 1px 3px 1px rgba(60, 64, 67, 0.15);\n",
              "      fill: #174EA6;\n",
              "    }\n",
              "\n",
              "    [theme=dark] .colab-df-convert {\n",
              "      background-color: #3B4455;\n",
              "      fill: #D2E3FC;\n",
              "    }\n",
              "\n",
              "    [theme=dark] .colab-df-convert:hover {\n",
              "      background-color: #434B5C;\n",
              "      box-shadow: 0px 1px 3px 1px rgba(0, 0, 0, 0.15);\n",
              "      filter: drop-shadow(0px 1px 2px rgba(0, 0, 0, 0.3));\n",
              "      fill: #FFFFFF;\n",
              "    }\n",
              "  </style>\n",
              "\n",
              "      <script>\n",
              "        const buttonEl =\n",
              "          document.querySelector('#df-821b7514-1867-40c1-97a3-ff6e8fc19ed6 button.colab-df-convert');\n",
              "        buttonEl.style.display =\n",
              "          google.colab.kernel.accessAllowed ? 'block' : 'none';\n",
              "\n",
              "        async function convertToInteractive(key) {\n",
              "          const element = document.querySelector('#df-821b7514-1867-40c1-97a3-ff6e8fc19ed6');\n",
              "          const dataTable =\n",
              "            await google.colab.kernel.invokeFunction('convertToInteractive',\n",
              "                                                     [key], {});\n",
              "          if (!dataTable) return;\n",
              "\n",
              "          const docLinkHtml = 'Like what you see? Visit the ' +\n",
              "            '<a target=\"_blank\" href=https://colab.research.google.com/notebooks/data_table.ipynb>data table notebook</a>'\n",
              "            + ' to learn more about interactive tables.';\n",
              "          element.innerHTML = '';\n",
              "          dataTable['output_type'] = 'display_data';\n",
              "          await google.colab.output.renderOutput(dataTable, element);\n",
              "          const docLink = document.createElement('div');\n",
              "          docLink.innerHTML = docLinkHtml;\n",
              "          element.appendChild(docLink);\n",
              "        }\n",
              "      </script>\n",
              "    </div>\n",
              "  </div>\n",
              "  "
            ]
          },
          "metadata": {},
          "execution_count": 460
        }
      ],
      "source": [
        "hasil = sentiment_analysis(all_df_copy[\"hasil\"])\n",
        "sentiments = [2 if sentimen > 0 else (1 if sentimen == 0 else 0) for sentimen in hasil]\n",
        "all_df_copy[\"sentiment\"] = sentiments\n",
        "all_df_copy.to_csv('sentimen_lexicon.csv', sep=';')\n",
        "all_df_copy.head()"
      ]
    },
    {
      "cell_type": "code",
      "execution_count": 461,
      "metadata": {
        "id": "bYYkWqCAUnjx"
      },
      "outputs": [],
      "source": [
        "all_df_copy[:200].to_csv(\"shadowLabelling.csv\", sep=\";\")"
      ]
    },
    {
      "cell_type": "markdown",
      "metadata": {
        "id": "kf2d1Si5TyzQ"
      },
      "source": [
        "# dengan SHADOW LABELLING\n",
        "\n",
        "dilakukan pemberian labelling secara manual terhadap 200 dataset yang ada, dengan kelas sentimen positif, netral, dan negatif"
      ]
    },
    {
      "cell_type": "code",
      "execution_count": 462,
      "metadata": {
        "colab": {
          "base_uri": "https://localhost:8080/"
        },
        "id": "NLyIW-YSpdwI",
        "outputId": "18b3e71e-4ca7-43e9-a6ef-3c405093e67d"
      },
      "outputs": [
        {
          "output_type": "stream",
          "name": "stdout",
          "text": [
            "Looking in indexes: https://pypi.org/simple, https://us-python.pkg.dev/colab-wheels/public/simple/\n",
            "Requirement already satisfied: tensorflow in /usr/local/lib/python3.10/dist-packages (2.12.0)\n",
            "Requirement already satisfied: absl-py>=1.0.0 in /usr/local/lib/python3.10/dist-packages (from tensorflow) (1.4.0)\n",
            "Requirement already satisfied: astunparse>=1.6.0 in /usr/local/lib/python3.10/dist-packages (from tensorflow) (1.6.3)\n",
            "Requirement already satisfied: flatbuffers>=2.0 in /usr/local/lib/python3.10/dist-packages (from tensorflow) (23.3.3)\n",
            "Requirement already satisfied: gast<=0.4.0,>=0.2.1 in /usr/local/lib/python3.10/dist-packages (from tensorflow) (0.4.0)\n",
            "Requirement already satisfied: google-pasta>=0.1.1 in /usr/local/lib/python3.10/dist-packages (from tensorflow) (0.2.0)\n",
            "Requirement already satisfied: grpcio<2.0,>=1.24.3 in /usr/local/lib/python3.10/dist-packages (from tensorflow) (1.54.0)\n",
            "Requirement already satisfied: h5py>=2.9.0 in /usr/local/lib/python3.10/dist-packages (from tensorflow) (3.8.0)\n",
            "Requirement already satisfied: jax>=0.3.15 in /usr/local/lib/python3.10/dist-packages (from tensorflow) (0.4.10)\n",
            "Requirement already satisfied: keras<2.13,>=2.12.0 in /usr/local/lib/python3.10/dist-packages (from tensorflow) (2.12.0)\n",
            "Requirement already satisfied: libclang>=13.0.0 in /usr/local/lib/python3.10/dist-packages (from tensorflow) (16.0.0)\n",
            "Requirement already satisfied: numpy<1.24,>=1.22 in /usr/local/lib/python3.10/dist-packages (from tensorflow) (1.22.4)\n",
            "Requirement already satisfied: opt-einsum>=2.3.2 in /usr/local/lib/python3.10/dist-packages (from tensorflow) (3.3.0)\n",
            "Requirement already satisfied: packaging in /usr/local/lib/python3.10/dist-packages (from tensorflow) (23.1)\n",
            "Requirement already satisfied: protobuf!=4.21.0,!=4.21.1,!=4.21.2,!=4.21.3,!=4.21.4,!=4.21.5,<5.0.0dev,>=3.20.3 in /usr/local/lib/python3.10/dist-packages (from tensorflow) (3.20.3)\n",
            "Requirement already satisfied: setuptools in /usr/local/lib/python3.10/dist-packages (from tensorflow) (67.7.2)\n",
            "Requirement already satisfied: six>=1.12.0 in /usr/local/lib/python3.10/dist-packages (from tensorflow) (1.16.0)\n",
            "Requirement already satisfied: tensorboard<2.13,>=2.12 in /usr/local/lib/python3.10/dist-packages (from tensorflow) (2.12.2)\n",
            "Requirement already satisfied: tensorflow-estimator<2.13,>=2.12.0 in /usr/local/lib/python3.10/dist-packages (from tensorflow) (2.12.0)\n",
            "Requirement already satisfied: termcolor>=1.1.0 in /usr/local/lib/python3.10/dist-packages (from tensorflow) (2.3.0)\n",
            "Requirement already satisfied: typing-extensions>=3.6.6 in /usr/local/lib/python3.10/dist-packages (from tensorflow) (4.5.0)\n",
            "Requirement already satisfied: wrapt<1.15,>=1.11.0 in /usr/local/lib/python3.10/dist-packages (from tensorflow) (1.14.1)\n",
            "Requirement already satisfied: tensorflow-io-gcs-filesystem>=0.23.1 in /usr/local/lib/python3.10/dist-packages (from tensorflow) (0.32.0)\n",
            "Requirement already satisfied: wheel<1.0,>=0.23.0 in /usr/local/lib/python3.10/dist-packages (from astunparse>=1.6.0->tensorflow) (0.40.0)\n",
            "Requirement already satisfied: ml-dtypes>=0.1.0 in /usr/local/lib/python3.10/dist-packages (from jax>=0.3.15->tensorflow) (0.1.0)\n",
            "Requirement already satisfied: scipy>=1.7 in /usr/local/lib/python3.10/dist-packages (from jax>=0.3.15->tensorflow) (1.10.1)\n",
            "Requirement already satisfied: google-auth<3,>=1.6.3 in /usr/local/lib/python3.10/dist-packages (from tensorboard<2.13,>=2.12->tensorflow) (2.17.3)\n",
            "Requirement already satisfied: google-auth-oauthlib<1.1,>=0.5 in /usr/local/lib/python3.10/dist-packages (from tensorboard<2.13,>=2.12->tensorflow) (1.0.0)\n",
            "Requirement already satisfied: markdown>=2.6.8 in /usr/local/lib/python3.10/dist-packages (from tensorboard<2.13,>=2.12->tensorflow) (3.4.3)\n",
            "Requirement already satisfied: requests<3,>=2.21.0 in /usr/local/lib/python3.10/dist-packages (from tensorboard<2.13,>=2.12->tensorflow) (2.27.1)\n",
            "Requirement already satisfied: tensorboard-data-server<0.8.0,>=0.7.0 in /usr/local/lib/python3.10/dist-packages (from tensorboard<2.13,>=2.12->tensorflow) (0.7.0)\n",
            "Requirement already satisfied: tensorboard-plugin-wit>=1.6.0 in /usr/local/lib/python3.10/dist-packages (from tensorboard<2.13,>=2.12->tensorflow) (1.8.1)\n",
            "Requirement already satisfied: werkzeug>=1.0.1 in /usr/local/lib/python3.10/dist-packages (from tensorboard<2.13,>=2.12->tensorflow) (2.3.0)\n",
            "Requirement already satisfied: cachetools<6.0,>=2.0.0 in /usr/local/lib/python3.10/dist-packages (from google-auth<3,>=1.6.3->tensorboard<2.13,>=2.12->tensorflow) (5.3.0)\n",
            "Requirement already satisfied: pyasn1-modules>=0.2.1 in /usr/local/lib/python3.10/dist-packages (from google-auth<3,>=1.6.3->tensorboard<2.13,>=2.12->tensorflow) (0.3.0)\n",
            "Requirement already satisfied: rsa<5,>=3.1.4 in /usr/local/lib/python3.10/dist-packages (from google-auth<3,>=1.6.3->tensorboard<2.13,>=2.12->tensorflow) (4.9)\n",
            "Requirement already satisfied: requests-oauthlib>=0.7.0 in /usr/local/lib/python3.10/dist-packages (from google-auth-oauthlib<1.1,>=0.5->tensorboard<2.13,>=2.12->tensorflow) (1.3.1)\n",
            "Requirement already satisfied: urllib3<1.27,>=1.21.1 in /usr/local/lib/python3.10/dist-packages (from requests<3,>=2.21.0->tensorboard<2.13,>=2.12->tensorflow) (1.26.15)\n",
            "Requirement already satisfied: certifi>=2017.4.17 in /usr/local/lib/python3.10/dist-packages (from requests<3,>=2.21.0->tensorboard<2.13,>=2.12->tensorflow) (2022.12.7)\n",
            "Requirement already satisfied: charset-normalizer~=2.0.0 in /usr/local/lib/python3.10/dist-packages (from requests<3,>=2.21.0->tensorboard<2.13,>=2.12->tensorflow) (2.0.12)\n",
            "Requirement already satisfied: idna<4,>=2.5 in /usr/local/lib/python3.10/dist-packages (from requests<3,>=2.21.0->tensorboard<2.13,>=2.12->tensorflow) (3.4)\n",
            "Requirement already satisfied: MarkupSafe>=2.1.1 in /usr/local/lib/python3.10/dist-packages (from werkzeug>=1.0.1->tensorboard<2.13,>=2.12->tensorflow) (2.1.2)\n",
            "Requirement already satisfied: pyasn1<0.6.0,>=0.4.6 in /usr/local/lib/python3.10/dist-packages (from pyasn1-modules>=0.2.1->google-auth<3,>=1.6.3->tensorboard<2.13,>=2.12->tensorflow) (0.5.0)\n",
            "Requirement already satisfied: oauthlib>=3.0.0 in /usr/local/lib/python3.10/dist-packages (from requests-oauthlib>=0.7.0->google-auth-oauthlib<1.1,>=0.5->tensorboard<2.13,>=2.12->tensorflow) (3.2.2)\n"
          ]
        }
      ],
      "source": [
        "!pip install tensorflow"
      ]
    },
    {
      "cell_type": "code",
      "execution_count": 463,
      "metadata": {
        "id": "1Cam3PRoo7Jm"
      },
      "outputs": [],
      "source": [
        "from plotly.offline import iplot\n",
        "import matplotlib.pyplot as plt\n",
        "import seaborn as sns\n",
        "from tensorflow.keras.preprocessing.text import Tokenizer\n",
        "from tensorflow.keras.preprocessing.sequence import pad_sequences\n",
        "from tensorflow.keras.models import Sequential\n",
        "from tensorflow.keras.layers import Dense, Embedding, LSTM, SpatialDropout1D, Bidirectional\n",
        "from sklearn.model_selection import train_test_split\n",
        "from keras.utils.np_utils import to_categorical\n",
        "from tensorflow.keras.callbacks import EarlyStopping\n",
        "from tensorflow.keras.layers import Dropout\n",
        "from nltk import word_tokenize\n",
        "\n",
        "import seaborn as sns\n",
        "sns.set_style('whitegrid')\n",
        "import matplotlib.pyplot as plt\n",
        "import math\n",
        "from sklearn import preprocessing\n",
        "from sklearn.preprocessing import StandardScaler\n",
        "from sklearn.compose import ColumnTransformer\n",
        "from sklearn.decomposition import PCA\n",
        "from imblearn.over_sampling import SMOTE\n",
        "from sklearn.model_selection import train_test_split\n",
        "from collections import Counter\n",
        "from sklearn.metrics import classification_report, confusion_matrix\n",
        "import itertools\n",
        "\n",
        "from sklearn import metrics\n",
        "\n",
        "from sklearn import svm\n",
        "from sklearn import tree\n",
        "from sklearn.tree import DecisionTreeClassifier\n",
        "from sklearn.neighbors import KNeighborsClassifier\n",
        "from sklearn.naive_bayes import GaussianNB\n",
        "from sklearn.discriminant_analysis import LinearDiscriminantAnalysis\n",
        "from sklearn.linear_model import LogisticRegression\n",
        "from sklearn.ensemble import VotingClassifier\n",
        "from sklearn.ensemble import StackingClassifier\n",
        "from sklearn.ensemble import BaggingClassifier\n",
        "from sklearn.ensemble import RandomForestClassifier\n",
        "\n",
        "from statistics import mean\n",
        "from sklearn.feature_extraction.text import TfidfVectorizer\n",
        "\n",
        "\n",
        "from numpy import mean\n",
        "from numpy import std\n",
        "\n",
        "from sklearn.model_selection import StratifiedKFold\n",
        "from sklearn.model_selection import cross_val_score\n",
        "from sklearn.model_selection import RepeatedStratifiedKFold\n",
        "\n",
        "from sklearn.ensemble import AdaBoostClassifier\n",
        "import xgboost as xgb\n",
        "import lightgbm as lgb\n",
        "from keras.utils import to_categorical\n",
        "\n",
        "from sklearn.metrics import accuracy_score"
      ]
    },
    {
      "cell_type": "code",
      "execution_count": 464,
      "metadata": {
        "id": "ZmcORrHYp4gw"
      },
      "outputs": [],
      "source": [
        "sentimen = pd.read_csv('jadi_shadowLabelling.csv', sep=\";\")"
      ]
    },
    {
      "cell_type": "code",
      "execution_count": 465,
      "metadata": {
        "colab": {
          "base_uri": "https://localhost:8080/"
        },
        "id": "NNQZrH-Xriq1",
        "outputId": "ba73076c-f8a6-444a-f9c1-8611256830d5"
      },
      "outputs": [
        {
          "output_type": "stream",
          "name": "stdout",
          "text": [
            "Epoch 1/5\n",
            "10/10 [==============================] - 6s 134ms/step - loss: 1.0518 - accuracy: 0.4938 - val_loss: 0.9632 - val_accuracy: 0.6000\n",
            "Epoch 2/5\n",
            "10/10 [==============================] - 0s 15ms/step - loss: 0.8974 - accuracy: 0.5750 - val_loss: 0.8905 - val_accuracy: 0.6000\n",
            "Epoch 3/5\n",
            "10/10 [==============================] - 0s 18ms/step - loss: 0.7393 - accuracy: 0.6438 - val_loss: 0.8590 - val_accuracy: 0.6000\n",
            "Epoch 4/5\n",
            "10/10 [==============================] - 0s 16ms/step - loss: 0.6118 - accuracy: 0.8562 - val_loss: 0.8262 - val_accuracy: 0.6500\n",
            "Epoch 5/5\n",
            "10/10 [==============================] - 0s 22ms/step - loss: 0.4214 - accuracy: 0.8813 - val_loss: 0.9838 - val_accuracy: 0.6750\n",
            "2/2 [==============================] - 0s 16ms/step - loss: 0.9838 - accuracy: 0.6750\n",
            "Test Loss: 0.9837815165519714\n",
            "Test Accuracy: 0.675000011920929\n"
          ]
        }
      ],
      "source": [
        "import numpy as np\n",
        "from tensorflow.keras.models import Sequential\n",
        "from tensorflow.keras.layers import Embedding, Bidirectional, LSTM, Dense\n",
        "from tensorflow.keras.preprocessing.sequence import pad_sequences\n",
        "from tensorflow.keras.preprocessing.text import Tokenizer\n",
        "from sklearn.model_selection import train_test_split\n",
        "\n",
        "# Example sentiment data\n",
        "texts = sentimen['hasil'].astype(str).tolist()\n",
        "\n",
        "# Example sentiment labels (0: negative, 1: neutral, 2: positive)\n",
        "labels = np.array(sentimen['sentiment'].tolist())\n",
        "\n",
        "# Split the data into training and testing sets\n",
        "texts_train, texts_test, labels_train, labels_test = train_test_split(texts, labels, test_size=0.2, random_state=42)\n",
        "\n",
        "# Tokenize the text data\n",
        "tokenizer = Tokenizer()\n",
        "tokenizer.fit_on_texts(texts_train)\n",
        "vocab_size = len(tokenizer.word_index) + 1\n",
        "\n",
        "# Convert text data to sequences\n",
        "sequences_train = tokenizer.texts_to_sequences(texts_train)\n",
        "sequences_test = tokenizer.texts_to_sequences(texts_test)\n",
        "\n",
        "# Pad sequences to have the same length\n",
        "max_length = 10\n",
        "X_train = pad_sequences(sequences_train, maxlen=max_length, padding='post')\n",
        "X_test = pad_sequences(sequences_test, maxlen=max_length, padding='post')\n",
        "\n",
        "# Convert labels to one-hot encoding\n",
        "num_classes = 3\n",
        "y_train = np.eye(num_classes)[labels_train]\n",
        "y_test = np.eye(num_classes)[labels_test]\n",
        "\n",
        "# Create the BLSTM model\n",
        "model = Sequential()\n",
        "model.add(Embedding(vocab_size, 100, input_length=max_length))\n",
        "model.add(Bidirectional(LSTM(64)))\n",
        "model.add(Dense(num_classes, activation='softmax'))\n",
        "\n",
        "# Compile the model\n",
        "model.compile(optimizer='adam', loss='categorical_crossentropy', metrics=['accuracy'])\n",
        "\n",
        "# Train the model\n",
        "model.fit(X_train, y_train, epochs=5, batch_size=16, validation_data=(X_test, y_test))\n",
        "\n",
        "# Evaluate the model\n",
        "loss, accuracy = model.evaluate(X_test, y_test)\n",
        "print('Test Loss:', loss)\n",
        "print('Test Accuracy:', accuracy)"
      ]
    },
    {
      "cell_type": "code",
      "execution_count": 466,
      "metadata": {
        "colab": {
          "base_uri": "https://localhost:8080/"
        },
        "id": "tGVWf2vJwFDm",
        "outputId": "d56a5390-087b-4357-af15-39dffc32f5e7"
      },
      "outputs": [
        {
          "output_type": "stream",
          "name": "stdout",
          "text": [
            "66/66 [==============================] - 2s 9ms/step\n",
            "[2 1 1 ... 1 1 1]\n"
          ]
        }
      ],
      "source": [
        "# Assuming you have already trained the model\n",
        "\n",
        "# Example text data for prediction\n",
        "new_texts = all_df_copy[200:]['hasil'].astype(str).tolist()\n",
        "\n",
        "# Convert the new text data to sequences\n",
        "new_sequences = tokenizer.texts_to_sequences(new_texts)\n",
        "\n",
        "# Pad the sequences to have the same length\n",
        "new_sequences_padded = pad_sequences(new_sequences, maxlen=max_length, padding='post')\n",
        "\n",
        "# Make predictions\n",
        "predictions = model.predict(new_sequences_padded)\n",
        "\n",
        "# Convert predictions to class labels\n",
        "predicted_labels = np.argmax(predictions, axis=1)\n",
        "\n",
        "# Print the predicted labels\n",
        "print(predicted_labels)"
      ]
    },
    {
      "cell_type": "code",
      "execution_count": 467,
      "metadata": {
        "id": "EZf37APIyFkE"
      },
      "outputs": [],
      "source": [
        "# SAVE HASIL PADA CSV\n",
        "hasil_shadow = pd.DataFrame(list(zip(all_df_copy[200:]['hasil'], predicted_labels)), columns=['hasil', 'sentiment'])\n",
        "hasil_shadow = pd.concat([sentimen, hasil_shadow])\n",
        "hasil_shadow = hasil_shadow.reset_index(drop=True)\n",
        "hasil_shadow.to_csv('hasil_shadow.csv', sep=\";\")"
      ]
    },
    {
      "cell_type": "markdown",
      "metadata": {
        "id": "jykKVZB5zH95"
      },
      "source": [
        "# ANALISIS HASIL SENTIMENT"
      ]
    },
    {
      "cell_type": "code",
      "execution_count": 468,
      "metadata": {
        "id": "ih8fLR_m8ZJ4"
      },
      "outputs": [],
      "source": [
        "def descriptive_visual(hasil):\n",
        "    print (f'''\n",
        "    Mean: {np.mean(hasil)}\n",
        "    Median: {np.median(hasil)}\n",
        "    quartil awal: {np.quantile(hasil,0.25)}\n",
        "    quartil akhir: {np.quantile(hasil,0.75)}\n",
        "    Standar deviasi: {np.std(hasil)}\n",
        "    ''')\n",
        "    labels, counts = np.unique(hasil, return_counts=True)\n",
        "\n",
        "    fig, ax = plt.subplots()\n",
        "    ax.set_xticks(ax.get_xticks())\n",
        "\n",
        "    sns.barplot(x = list(labels),\n",
        "                y = list(counts))\n",
        "\n",
        "    sns.lineplot(x = ax.get_xticks(),\n",
        "                y = list(counts))\n",
        "\n",
        "    plt.title(f'Distribution Sentiment')\n",
        "    plt.xlabel('Labels')\n",
        "    plt.ylabel('Counts')\n",
        "\n",
        "    plt.show()"
      ]
    },
    {
      "cell_type": "markdown",
      "metadata": {
        "id": "yJh4Mu5WzLqw"
      },
      "source": [
        "## dengan lexicon"
      ]
    },
    {
      "cell_type": "code",
      "execution_count": 469,
      "metadata": {
        "colab": {
          "base_uri": "https://localhost:8080/",
          "height": 594
        },
        "id": "kUhscUKEzQsz",
        "outputId": "850e008a-db47-47b5-d863-d5084d7d7587"
      },
      "outputs": [
        {
          "output_type": "stream",
          "name": "stdout",
          "text": [
            "\n",
            "    Mean: -0.7158304498269896\n",
            "    Median: 0.0\n",
            "    quartil awal: -4.0\n",
            "    quartil akhir: 3.0\n",
            "    Standar deviasi: 15.412498587790935\n",
            "    \n"
          ]
        },
        {
          "output_type": "display_data",
          "data": {
            "text/plain": [
              "<Figure size 640x480 with 1 Axes>"
            ],
            "image/png": "[encoded data removed]"
          },
          "metadata": {}
        }
      ],
      "source": [
        "descriptive_visual(hasil)"
      ]
    },
    {
      "cell_type": "code",
      "execution_count": 470,
      "metadata": {
        "colab": {
          "base_uri": "https://localhost:8080/"
        },
        "id": "fkr7PlvC-rT_",
        "outputId": "0f9dd726-b090-4c1c-b0b8-9e313eefd9b0"
      },
      "outputs": [
        {
          "output_type": "execute_result",
          "data": {
            "text/plain": [
              "0    905\n",
              "2    776\n",
              "1    631\n",
              "Name: sentiment, dtype: int64"
            ]
          },
          "metadata": {},
          "execution_count": 470
        }
      ],
      "source": [
        "dist = all_df_copy['sentiment'].value_counts()\n",
        "dist"
      ]
    },
    {
      "cell_type": "code",
      "execution_count": 471,
      "metadata": {
        "colab": {
          "base_uri": "https://localhost:8080/",
          "height": 487
        },
        "id": "1JdTlZsT98VE",
        "outputId": "5823ad6f-8242-4a19-d82a-6764479d529c"
      },
      "outputs": [
        {
          "output_type": "display_data",
          "data": {
            "text/plain": [
              "<Figure size 1000x500 with 1 Axes>"
            ],
            "image/png": "[encoded data removed]"
          },
          "metadata": {}
        }
      ],
      "source": [
        "# VISUALISASI DATA TERDETEKSI IKLAN\n",
        "labels = [\"negatif\", \"netral\", \"positif\"]\n",
        "\n",
        "fig = plt.figure(figsize = (10, 5))\n",
        "plt.bar(labels, dist, color ='blue', width = 0.4)\n",
        "\n",
        "plt.xlabel(\"sentiment\")\n",
        "plt.ylabel(\"Jumlah Data Terdeteksi\")\n",
        "plt.title(\"Persebaran sentiment\")\n",
        "plt.show()"
      ]
    },
    {
      "cell_type": "markdown",
      "metadata": {
        "id": "zoA8xuOLzOLI"
      },
      "source": [
        "## dengan shadow labelling"
      ]
    },
    {
      "cell_type": "code",
      "execution_count": 472,
      "metadata": {
        "colab": {
          "base_uri": "https://localhost:8080/"
        },
        "id": "ynuNPtELzQVx",
        "outputId": "41d5c033-0cb3-45a8-eae6-7f670c57ff82"
      },
      "outputs": [
        {
          "output_type": "execute_result",
          "data": {
            "text/plain": [
              "1    1886\n",
              "2     418\n",
              "0       8\n",
              "Name: sentiment, dtype: int64"
            ]
          },
          "metadata": {},
          "execution_count": 472
        }
      ],
      "source": [
        "dist = hasil_shadow['sentiment'].value_counts()\n",
        "dist"
      ]
    },
    {
      "cell_type": "code",
      "execution_count": 473,
      "metadata": {
        "colab": {
          "base_uri": "https://localhost:8080/",
          "height": 487
        },
        "id": "BBw4Nopk8g7V",
        "outputId": "82da5fc9-6a56-4df0-d9fd-e24cf57bced9"
      },
      "outputs": [
        {
          "output_type": "display_data",
          "data": {
            "text/plain": [
              "<Figure size 1000x500 with 1 Axes>"
            ],
            "image/png": "[encoded data removed]"
          },
          "metadata": {}
        }
      ],
      "source": [
        "# VISUALISASI DATA TERDETEKSI IKLAN\n",
        "labels = [\"negatif\", \"netral\", \"positif\"]\n",
        "\n",
        "fig = plt.figure(figsize = (10, 5))\n",
        "plt.bar(labels, dist, color ='blue', width = 0.4)\n",
        "\n",
        "plt.xlabel(\"sentiment\")\n",
        "plt.ylabel(\"Jumlah Data Terdeteksi\")\n",
        "plt.title(\"Persebaran sentiment\")\n",
        "plt.show()"
      ]
    },
    {
      "cell_type": "markdown",
      "metadata": {
        "id": "P3ZaLFAk-xmD"
      },
      "source": [
        "# TOPIK"
      ]
    },
    {
      "cell_type": "code",
      "execution_count": 474,
      "metadata": {
        "id": "HCIPjZBL-y6L"
      },
      "outputs": [],
      "source": [
        "#17. a. Fungsi LDA MODEL\n",
        "def ldamodel(ntopics, alph, beta, doc_term_matrix, dictionary):\n",
        "    lda_model = gensim.models.LdaMulticore(corpus=doc_term_matrix,\n",
        "                                           id2word=dictionary,\n",
        "                                           num_topics=ntopics,\n",
        "                                           random_state=100,\n",
        "                                           chunksize=100,\n",
        "                                           passes=10,\n",
        "                                           alpha=alph,\n",
        "                                           eta=beta)\n",
        "    return lda_model"
      ]
    },
    {
      "cell_type": "code",
      "execution_count": 475,
      "metadata": {
        "id": "bj8b-EGh-00Z"
      },
      "outputs": [],
      "source": [
        "#fungsi menghitung nilai korehen\n",
        "def compute_coherence_values(corpus, dictionary, k, a, b):\n",
        "\n",
        "    lda_model = gensim.models.LdaMulticore(corpus=doc_term_matrix,\n",
        "                                           id2word=dictionary,\n",
        "                                           num_topics=k,\n",
        "                                           random_state=100,\n",
        "                                           chunksize=100,\n",
        "                                           passes=10,\n",
        "                                           alpha=a,\n",
        "                                           eta=b)\n",
        "\n",
        "    coherence_model_lda = CoherenceModel(model=lda_model, texts=data_berita, dictionary=dictionary, coherence='c_v')\n",
        "\n",
        "    return coherence_model_lda.get_coherence()"
      ]
    },
    {
      "cell_type": "code",
      "execution_count": 476,
      "metadata": {
        "id": "XYNjAl-a-3XS"
      },
      "outputs": [],
      "source": [
        "#17.b. Fungsi TUNING PARAMETER\n",
        "def get_tuning_param(doc_term_matrix, namafile):\n",
        "    min_topics = 2\n",
        "    max_topics = 8\n",
        "    step_size = 1\n",
        "    topics_range = range(min_topics, max_topics, step_size)\n",
        "    # Alpha parameter\n",
        "    alpha = list(np.arange(0.01, 1, 0.3))\n",
        "    alpha.append('symmetric')\n",
        "    alpha.append('asymmetric')\n",
        "    # Beta parameter\n",
        "    beta = list(np.arange(0.01, 1, 0.3))\n",
        "    beta.append('symmetric')\n",
        "    # Validation sets\n",
        "    num_of_docs = len(doc_term_matrix)\n",
        "    corpus_sets = [# gensim.utils.ClippedCorpus(corpus, num_of_docs*0.25),\n",
        "                # gensim.utils.ClippedCorpus(corpus, num_of_docs*0.5),\n",
        "                gensim.utils.ClippedCorpus(doc_term_matrix, num_of_docs*0.75),\n",
        "                doc_term_matrix]\n",
        "    corpus_title = ['75% Corpus', '100% Corpus']\n",
        "    model_results = {'Validation_Set': [],\n",
        "                    'Topics': [],\n",
        "                    'Alpha': [],\n",
        "                    'Beta': [],\n",
        "                    'Coherence': []\n",
        "                    }\n",
        "    # Can take a long time to run\n",
        "    if 1 == 1:\n",
        "        pbar = tqdm.tqdm(total=540)\n",
        "\n",
        "        # iterate through validation corpuses\n",
        "        for i in range(len(corpus_sets)):\n",
        "            # iterate through number of topics\n",
        "            for k in topics_range:\n",
        "                # iterate through alpha values\n",
        "                for a in alpha:\n",
        "                    # iterare through beta values\n",
        "                    for b in beta:\n",
        "                        # get the coherence score for the given parameters\n",
        "                        cv = compute_coherence_values(corpus=corpus_sets[i], dictionary=dictionary,\n",
        "                                                    k=k, a=a, b=b)\n",
        "                        # Save the model results\n",
        "                        model_results['Validation_Set'].append(corpus_title[i])\n",
        "                        model_results['Topics'].append(k)\n",
        "                        model_results['Alpha'].append(a)\n",
        "                        model_results['Beta'].append(b)\n",
        "                        model_results['Coherence'].append(cv)\n",
        "\n",
        "                        pbar.update(1)\n",
        "        pd.DataFrame(model_results).to_csv(namafile, index=False)\n",
        "        pbar.close()"
      ]
    },
    {
      "cell_type": "code",
      "execution_count": 477,
      "metadata": {
        "id": "urNSxITuAYkQ"
      },
      "outputs": [],
      "source": [
        "sentiment_df = all_df_copy.copy()\n",
        "sentiment_df.drop(sentiment_df[sentiment_df['sentiment'] != 0].index, inplace = True)"
      ]
    },
    {
      "cell_type": "code",
      "execution_count": 478,
      "metadata": {
        "colab": {
          "base_uri": "https://localhost:8080/",
          "height": 424
        },
        "id": "borWFffq_4mb",
        "outputId": "635856f5-5a7d-44cd-cffc-55ab44c9a88c"
      },
      "outputs": [
        {
          "output_type": "display_data",
          "data": {
            "text/plain": [
              "<Figure size 1000x600 with 1 Axes>"
            ],
            "image/png": "[encoded data removed]"
          },
          "metadata": {}
        }
      ],
      "source": [
        "#Visualisasi Word Cloud\n",
        "full = ''\n",
        "for komen in sentiment_df[\"hasil\"]:\n",
        "    full += komen\n",
        "words = full.split()\n",
        "\n",
        "word_count = Counter(words)\n",
        "top = word_count.most_common(30)\n",
        "word_freq = dict(top)\n",
        "\n",
        "wordcloud = WordCloud(width=800, height=400, colormap='Reds').generate_from_frequencies(word_freq)\n",
        "\n",
        "# Display the word cloud\n",
        "plt.figure(figsize=(10, 6))\n",
        "plt.imshow(wordcloud, interpolation='bilinear')\n",
        "plt.axis('off')\n",
        "plt.show()"
      ]
    },
    {
      "cell_type": "code",
      "execution_count": 479,
      "metadata": {
        "id": "7zvaIJiY_he2"
      },
      "outputs": [],
      "source": [
        "data_berita = [berita.split() for berita in sentiment_df[\"hasil\"]]\n",
        "dictionary = corpora.Dictionary(data_berita)\n",
        "doc_term_matrix = [dictionary.doc2bow(doc) for doc in data_berita]"
      ]
    },
    {
      "cell_type": "code",
      "execution_count": 480,
      "metadata": {
        "colab": {
          "base_uri": "https://localhost:8080/",
          "height": 424
        },
        "id": "QAhWuFBe_mB6",
        "outputId": "78600a47-a248-491b-c69d-3bfc71a8715f"
      },
      "outputs": [
        {
          "output_type": "execute_result",
          "data": {
            "text/plain": [
              "    Validation_Set  Topics       Alpha                Beta  Coherence\n",
              "0       75% Corpus       2        0.01                0.01   0.448376\n",
              "1       75% Corpus       2        0.01                0.31   0.349961\n",
              "2       75% Corpus       2        0.01                0.61   0.553360\n",
              "3       75% Corpus       2        0.01  0.9099999999999999   0.487064\n",
              "4       75% Corpus       2        0.01           symmetric   0.488777\n",
              "..             ...     ...         ...                 ...        ...\n",
              "355    100% Corpus       7  asymmetric                0.01   0.445588\n",
              "356    100% Corpus       7  asymmetric                0.31   0.483375\n",
              "357    100% Corpus       7  asymmetric                0.61   0.397996\n",
              "358    100% Corpus       7  asymmetric  0.9099999999999999   0.454900\n",
              "359    100% Corpus       7  asymmetric           symmetric   0.449416\n",
              "\n",
              "[360 rows x 5 columns]"
            ],
            "text/html": [
              "\n",
              "  <div id=\"df-9aadbe81-1de7-4c33-ba3f-bb78099ac374\">\n",
              "    <div class=\"colab-df-container\">\n",
              "      <div>\n",
              "<style scoped>\n",
              "    .dataframe tbody tr th:only-of-type {\n",
              "        vertical-align: middle;\n",
              "    }\n",
              "\n",
              "    .dataframe tbody tr th {\n",
              "        vertical-align: top;\n",
              "    }\n",
              "\n",
              "    .dataframe thead th {\n",
              "        text-align: right;\n",
              "    }\n",
              "</style>\n",
              "<table border=\"1\" class=\"dataframe\">\n",
              "  <thead>\n",
              "    <tr style=\"text-align: right;\">\n",
              "      <th></th>\n",
              "      <th>Validation_Set</th>\n",
              "      <th>Topics</th>\n",
              "      <th>Alpha</th>\n",
              "      <th>Beta</th>\n",
              "      <th>Coherence</th>\n",
              "    </tr>\n",
              "  </thead>\n",
              "  <tbody>\n",
              "    <tr>\n",
              "      <th>0</th>\n",
              "      <td>75% Corpus</td>\n",
              "      <td>2</td>\n",
              "      <td>0.01</td>\n",
              "      <td>0.01</td>\n",
              "      <td>0.448376</td>\n",
              "    </tr>\n",
              "    <tr>\n",
              "      <th>1</th>\n",
              "      <td>75% Corpus</td>\n",
              "      <td>2</td>\n",
              "      <td>0.01</td>\n",
              "      <td>0.31</td>\n",
              "      <td>0.349961</td>\n",
              "    </tr>\n",
              "    <tr>\n",
              "      <th>2</th>\n",
              "      <td>75% Corpus</td>\n",
              "      <td>2</td>\n",
              "      <td>0.01</td>\n",
              "      <td>0.61</td>\n",
              "      <td>0.553360</td>\n",
              "    </tr>\n",
              "    <tr>\n",
              "      <th>3</th>\n",
              "      <td>75% Corpus</td>\n",
              "      <td>2</td>\n",
              "      <td>0.01</td>\n",
              "      <td>0.9099999999999999</td>\n",
              "      <td>0.487064</td>\n",
              "    </tr>\n",
              "    <tr>\n",
              "      <th>4</th>\n",
              "      <td>75% Corpus</td>\n",
              "      <td>2</td>\n",
              "      <td>0.01</td>\n",
              "      <td>symmetric</td>\n",
              "      <td>0.488777</td>\n",
              "    </tr>\n",
              "    <tr>\n",
              "      <th>...</th>\n",
              "      <td>...</td>\n",
              "      <td>...</td>\n",
              "      <td>...</td>\n",
              "      <td>...</td>\n",
              "      <td>...</td>\n",
              "    </tr>\n",
              "    <tr>\n",
              "      <th>355</th>\n",
              "      <td>100% Corpus</td>\n",
              "      <td>7</td>\n",
              "      <td>asymmetric</td>\n",
              "      <td>0.01</td>\n",
              "      <td>0.445588</td>\n",
              "    </tr>\n",
              "    <tr>\n",
              "      <th>356</th>\n",
              "      <td>100% Corpus</td>\n",
              "      <td>7</td>\n",
              "      <td>asymmetric</td>\n",
              "      <td>0.31</td>\n",
              "      <td>0.483375</td>\n",
              "    </tr>\n",
              "    <tr>\n",
              "      <th>357</th>\n",
              "      <td>100% Corpus</td>\n",
              "      <td>7</td>\n",
              "      <td>asymmetric</td>\n",
              "      <td>0.61</td>\n",
              "      <td>0.397996</td>\n",
              "    </tr>\n",
              "    <tr>\n",
              "      <th>358</th>\n",
              "      <td>100% Corpus</td>\n",
              "      <td>7</td>\n",
              "      <td>asymmetric</td>\n",
              "      <td>0.9099999999999999</td>\n",
              "      <td>0.454900</td>\n",
              "    </tr>\n",
              "    <tr>\n",
              "      <th>359</th>\n",
              "      <td>100% Corpus</td>\n",
              "      <td>7</td>\n",
              "      <td>asymmetric</td>\n",
              "      <td>symmetric</td>\n",
              "      <td>0.449416</td>\n",
              "    </tr>\n",
              "  </tbody>\n",
              "</table>\n",
              "<p>360 rows × 5 columns</p>\n",
              "</div>\n",
              "      <button class=\"colab-df-convert\" onclick=\"convertToInteractive('df-9aadbe81-1de7-4c33-ba3f-bb78099ac374')\"\n",
              "              title=\"Convert this dataframe to an interactive table.\"\n",
              "              style=\"display:none;\">\n",
              "        \n",
              "  <svg xmlns=\"http://www.w3.org/2000/svg\" height=\"24px\"viewBox=\"0 0 24 24\"\n",
              "       width=\"24px\">\n",
              "    <path d=\"M0 0h24v24H0V0z\" fill=\"none\"/>\n",
              "    <path d=\"M18.56 5.44l.94 2.06.94-2.06 2.06-.94-2.06-.94-.94-2.06-.94 2.06-2.06.94zm-11 1L8.5 8.5l.94-2.06 2.06-.94-2.06-.94L8.5 2.5l-.94 2.06-2.06.94zm10 10l.94 2.06.94-2.06 2.06-.94-2.06-.94-.94-2.06-.94 2.06-2.06.94z\"/><path d=\"M17.41 7.96l-1.37-1.37c-.4-.4-.92-.59-1.43-.59-.52 0-1.04.2-1.43.59L10.3 9.45l-7.72 7.72c-.78.78-.78 2.05 0 2.83L4 21.41c.39.39.9.59 1.41.59.51 0 1.02-.2 1.41-.59l7.78-7.78 2.81-2.81c.8-.78.8-2.07 0-2.86zM5.41 20L4 18.59l7.72-7.72 1.47 1.35L5.41 20z\"/>\n",
              "  </svg>\n",
              "      </button>\n",
              "      \n",
              "  <style>\n",
              "    .colab-df-container {\n",
              "      display:flex;\n",
              "      flex-wrap:wrap;\n",
              "      gap: 12px;\n",
              "    }\n",
              "\n",
              "    .colab-df-convert {\n",
              "      background-color: #E8F0FE;\n",
              "      border: none;\n",
              "      border-radius: 50%;\n",
              "      cursor: pointer;\n",
              "      display: none;\n",
              "      fill: #1967D2;\n",
              "      height: 32px;\n",
              "      padding: 0 0 0 0;\n",
              "      width: 32px;\n",
              "    }\n",
              "\n",
              "    .colab-df-convert:hover {\n",
              "      background-color: #E2EBFA;\n",
              "      box-shadow: 0px 1px 2px rgba(60, 64, 67, 0.3), 0px 1px 3px 1px rgba(60, 64, 67, 0.15);\n",
              "      fill: #174EA6;\n",
              "    }\n",
              "\n",
              "    [theme=dark] .colab-df-convert {\n",
              "      background-color: #3B4455;\n",
              "      fill: #D2E3FC;\n",
              "    }\n",
              "\n",
              "    [theme=dark] .colab-df-convert:hover {\n",
              "      background-color: #434B5C;\n",
              "      box-shadow: 0px 1px 3px 1px rgba(0, 0, 0, 0.15);\n",
              "      filter: drop-shadow(0px 1px 2px rgba(0, 0, 0, 0.3));\n",
              "      fill: #FFFFFF;\n",
              "    }\n",
              "  </style>\n",
              "\n",
              "      <script>\n",
              "        const buttonEl =\n",
              "          document.querySelector('#df-9aadbe81-1de7-4c33-ba3f-bb78099ac374 button.colab-df-convert');\n",
              "        buttonEl.style.display =\n",
              "          google.colab.kernel.accessAllowed ? 'block' : 'none';\n",
              "\n",
              "        async function convertToInteractive(key) {\n",
              "          const element = document.querySelector('#df-9aadbe81-1de7-4c33-ba3f-bb78099ac374');\n",
              "          const dataTable =\n",
              "            await google.colab.kernel.invokeFunction('convertToInteractive',\n",
              "                                                     [key], {});\n",
              "          if (!dataTable) return;\n",
              "\n",
              "          const docLinkHtml = 'Like what you see? Visit the ' +\n",
              "            '<a target=\"_blank\" href=https://colab.research.google.com/notebooks/data_table.ipynb>data table notebook</a>'\n",
              "            + ' to learn more about interactive tables.';\n",
              "          element.innerHTML = '';\n",
              "          dataTable['output_type'] = 'display_data';\n",
              "          await google.colab.output.renderOutput(dataTable, element);\n",
              "          const docLink = document.createElement('div');\n",
              "          docLink.innerHTML = docLinkHtml;\n",
              "          element.appendChild(docLink);\n",
              "        }\n",
              "      </script>\n",
              "    </div>\n",
              "  </div>\n",
              "  "
            ]
          },
          "metadata": {},
          "execution_count": 480
        }
      ],
      "source": [
        "# get_tuning_param(doc_term_matrix,\"tuning_lda_all.csv\")\n",
        "df_tuning_all = pd.read_csv(\"tuning_lda_all.csv\")\n",
        "df_tuning_all"
      ]
    },
    {
      "cell_type": "code",
      "execution_count": 481,
      "metadata": {
        "colab": {
          "base_uri": "https://localhost:8080/",
          "height": 466
        },
        "id": "QVm_MhtU_qEb",
        "outputId": "bbd65591-e72b-406e-ce9a-906dad047980"
      },
      "outputs": [
        {
          "output_type": "execute_result",
          "data": {
            "text/plain": [
              "<Axes: xlabel='Topics'>"
            ]
          },
          "metadata": {},
          "execution_count": 481
        },
        {
          "output_type": "display_data",
          "data": {
            "text/plain": [
              "<Figure size 640x480 with 1 Axes>"
            ],
            "image/png": "[encoded data removed]"
          },
          "metadata": {}
        }
      ],
      "source": [
        "#17.e. Menentukan jumlah topik\n",
        "df_plot = df_tuning_all[(df_tuning_all.Alpha == \"0.01\") & (df_tuning_all.Beta == \"0.31\") & (df_tuning_all.Validation_Set == \"100% Corpus\")].copy()\n",
        "df_plot.plot(x='Topics', y = \"Coherence\", kind=\"line\")"
      ]
    },
    {
      "cell_type": "code",
      "execution_count": 482,
      "metadata": {
        "colab": {
          "base_uri": "https://localhost:8080/",
          "height": 990
        },
        "id": "7rVRAiLC_qz0",
        "outputId": "5a26c0bc-0f57-49d2-d2a7-c138a9d48b73"
      },
      "outputs": [
        {
          "output_type": "execute_result",
          "data": {
            "text/plain": [
              "    Validation_Set  Topics               Alpha                Beta  Coherence\n",
              "327    100% Corpus       6          asymmetric                0.61   0.545549\n",
              "303    100% Corpus       6                0.01  0.9099999999999999   0.542856\n",
              "326    100% Corpus       6          asymmetric                0.31   0.526568\n",
              "313    100% Corpus       6                0.61  0.9099999999999999   0.525807\n",
              "302    100% Corpus       6                0.01                0.61   0.524603\n",
              "328    100% Corpus       6          asymmetric  0.9099999999999999   0.521317\n",
              "306    100% Corpus       6                0.31                0.31   0.520391\n",
              "308    100% Corpus       6                0.31  0.9099999999999999   0.520297\n",
              "311    100% Corpus       6                0.61                0.31   0.518051\n",
              "323    100% Corpus       6           symmetric  0.9099999999999999   0.515205\n",
              "307    100% Corpus       6                0.31                0.61   0.512267\n",
              "314    100% Corpus       6                0.61           symmetric   0.507781\n",
              "309    100% Corpus       6                0.31           symmetric   0.506390\n",
              "301    100% Corpus       6                0.01                0.31   0.506146\n",
              "304    100% Corpus       6                0.01           symmetric   0.503887\n",
              "322    100% Corpus       6           symmetric                0.61   0.498220\n",
              "324    100% Corpus       6           symmetric           symmetric   0.486848\n",
              "329    100% Corpus       6          asymmetric           symmetric   0.486300\n",
              "321    100% Corpus       6           symmetric                0.31   0.484727\n",
              "316    100% Corpus       6  0.9099999999999999                0.31   0.483819\n",
              "317    100% Corpus       6  0.9099999999999999                0.61   0.483591\n",
              "319    100% Corpus       6  0.9099999999999999           symmetric   0.478984\n",
              "312    100% Corpus       6                0.61                0.61   0.467642\n",
              "318    100% Corpus       6  0.9099999999999999  0.9099999999999999   0.465064\n",
              "305    100% Corpus       6                0.31                0.01   0.453668\n",
              "320    100% Corpus       6           symmetric                0.01   0.444341\n",
              "300    100% Corpus       6                0.01                0.01   0.442339\n",
              "310    100% Corpus       6                0.61                0.01   0.439593\n",
              "315    100% Corpus       6  0.9099999999999999                0.01   0.421615\n",
              "325    100% Corpus       6          asymmetric                0.01   0.412426"
            ],
            "text/html": [
              "\n",
              "  <div id=\"df-b8ceb90a-372b-4de1-8f09-ff130c0f9bbc\">\n",
              "    <div class=\"colab-df-container\">\n",
              "      <div>\n",
              "<style scoped>\n",
              "    .dataframe tbody tr th:only-of-type {\n",
              "        vertical-align: middle;\n",
              "    }\n",
              "\n",
              "    .dataframe tbody tr th {\n",
              "        vertical-align: top;\n",
              "    }\n",
              "\n",
              "    .dataframe thead th {\n",
              "        text-align: right;\n",
              "    }\n",
              "</style>\n",
              "<table border=\"1\" class=\"dataframe\">\n",
              "  <thead>\n",
              "    <tr style=\"text-align: right;\">\n",
              "      <th></th>\n",
              "      <th>Validation_Set</th>\n",
              "      <th>Topics</th>\n",
              "      <th>Alpha</th>\n",
              "      <th>Beta</th>\n",
              "      <th>Coherence</th>\n",
              "    </tr>\n",
              "  </thead>\n",
              "  <tbody>\n",
              "    <tr>\n",
              "      <th>327</th>\n",
              "      <td>100% Corpus</td>\n",
              "      <td>6</td>\n",
              "      <td>asymmetric</td>\n",
              "      <td>0.61</td>\n",
              "      <td>0.545549</td>\n",
              "    </tr>\n",
              "    <tr>\n",
              "      <th>303</th>\n",
              "      <td>100% Corpus</td>\n",
              "      <td>6</td>\n",
              "      <td>0.01</td>\n",
              "      <td>0.9099999999999999</td>\n",
              "      <td>0.542856</td>\n",
              "    </tr>\n",
              "    <tr>\n",
              "      <th>326</th>\n",
              "      <td>100% Corpus</td>\n",
              "      <td>6</td>\n",
              "      <td>asymmetric</td>\n",
              "      <td>0.31</td>\n",
              "      <td>0.526568</td>\n",
              "    </tr>\n",
              "    <tr>\n",
              "      <th>313</th>\n",
              "      <td>100% Corpus</td>\n",
              "      <td>6</td>\n",
              "      <td>0.61</td>\n",
              "      <td>0.9099999999999999</td>\n",
              "      <td>0.525807</td>\n",
              "    </tr>\n",
              "    <tr>\n",
              "      <th>302</th>\n",
              "      <td>100% Corpus</td>\n",
              "      <td>6</td>\n",
              "      <td>0.01</td>\n",
              "      <td>0.61</td>\n",
              "      <td>0.524603</td>\n",
              "    </tr>\n",
              "    <tr>\n",
              "      <th>328</th>\n",
              "      <td>100% Corpus</td>\n",
              "      <td>6</td>\n",
              "      <td>asymmetric</td>\n",
              "      <td>0.9099999999999999</td>\n",
              "      <td>0.521317</td>\n",
              "    </tr>\n",
              "    <tr>\n",
              "      <th>306</th>\n",
              "      <td>100% Corpus</td>\n",
              "      <td>6</td>\n",
              "      <td>0.31</td>\n",
              "      <td>0.31</td>\n",
              "      <td>0.520391</td>\n",
              "    </tr>\n",
              "    <tr>\n",
              "      <th>308</th>\n",
              "      <td>100% Corpus</td>\n",
              "      <td>6</td>\n",
              "      <td>0.31</td>\n",
              "      <td>0.9099999999999999</td>\n",
              "      <td>0.520297</td>\n",
              "    </tr>\n",
              "    <tr>\n",
              "      <th>311</th>\n",
              "      <td>100% Corpus</td>\n",
              "      <td>6</td>\n",
              "      <td>0.61</td>\n",
              "      <td>0.31</td>\n",
              "      <td>0.518051</td>\n",
              "    </tr>\n",
              "    <tr>\n",
              "      <th>323</th>\n",
              "      <td>100% Corpus</td>\n",
              "      <td>6</td>\n",
              "      <td>symmetric</td>\n",
              "      <td>0.9099999999999999</td>\n",
              "      <td>0.515205</td>\n",
              "    </tr>\n",
              "    <tr>\n",
              "      <th>307</th>\n",
              "      <td>100% Corpus</td>\n",
              "      <td>6</td>\n",
              "      <td>0.31</td>\n",
              "      <td>0.61</td>\n",
              "      <td>0.512267</td>\n",
              "    </tr>\n",
              "    <tr>\n",
              "      <th>314</th>\n",
              "      <td>100% Corpus</td>\n",
              "      <td>6</td>\n",
              "      <td>0.61</td>\n",
              "      <td>symmetric</td>\n",
              "      <td>0.507781</td>\n",
              "    </tr>\n",
              "    <tr>\n",
              "      <th>309</th>\n",
              "      <td>100% Corpus</td>\n",
              "      <td>6</td>\n",
              "      <td>0.31</td>\n",
              "      <td>symmetric</td>\n",
              "      <td>0.506390</td>\n",
              "    </tr>\n",
              "    <tr>\n",
              "      <th>301</th>\n",
              "      <td>100% Corpus</td>\n",
              "      <td>6</td>\n",
              "      <td>0.01</td>\n",
              "      <td>0.31</td>\n",
              "      <td>0.506146</td>\n",
              "    </tr>\n",
              "    <tr>\n",
              "      <th>304</th>\n",
              "      <td>100% Corpus</td>\n",
              "      <td>6</td>\n",
              "      <td>0.01</td>\n",
              "      <td>symmetric</td>\n",
              "      <td>0.503887</td>\n",
              "    </tr>\n",
              "    <tr>\n",
              "      <th>322</th>\n",
              "      <td>100% Corpus</td>\n",
              "      <td>6</td>\n",
              "      <td>symmetric</td>\n",
              "      <td>0.61</td>\n",
              "      <td>0.498220</td>\n",
              "    </tr>\n",
              "    <tr>\n",
              "      <th>324</th>\n",
              "      <td>100% Corpus</td>\n",
              "      <td>6</td>\n",
              "      <td>symmetric</td>\n",
              "      <td>symmetric</td>\n",
              "      <td>0.486848</td>\n",
              "    </tr>\n",
              "    <tr>\n",
              "      <th>329</th>\n",
              "      <td>100% Corpus</td>\n",
              "      <td>6</td>\n",
              "      <td>asymmetric</td>\n",
              "      <td>symmetric</td>\n",
              "      <td>0.486300</td>\n",
              "    </tr>\n",
              "    <tr>\n",
              "      <th>321</th>\n",
              "      <td>100% Corpus</td>\n",
              "      <td>6</td>\n",
              "      <td>symmetric</td>\n",
              "      <td>0.31</td>\n",
              "      <td>0.484727</td>\n",
              "    </tr>\n",
              "    <tr>\n",
              "      <th>316</th>\n",
              "      <td>100% Corpus</td>\n",
              "      <td>6</td>\n",
              "      <td>0.9099999999999999</td>\n",
              "      <td>0.31</td>\n",
              "      <td>0.483819</td>\n",
              "    </tr>\n",
              "    <tr>\n",
              "      <th>317</th>\n",
              "      <td>100% Corpus</td>\n",
              "      <td>6</td>\n",
              "      <td>0.9099999999999999</td>\n",
              "      <td>0.61</td>\n",
              "      <td>0.483591</td>\n",
              "    </tr>\n",
              "    <tr>\n",
              "      <th>319</th>\n",
              "      <td>100% Corpus</td>\n",
              "      <td>6</td>\n",
              "      <td>0.9099999999999999</td>\n",
              "      <td>symmetric</td>\n",
              "      <td>0.478984</td>\n",
              "    </tr>\n",
              "    <tr>\n",
              "      <th>312</th>\n",
              "      <td>100% Corpus</td>\n",
              "      <td>6</td>\n",
              "      <td>0.61</td>\n",
              "      <td>0.61</td>\n",
              "      <td>0.467642</td>\n",
              "    </tr>\n",
              "    <tr>\n",
              "      <th>318</th>\n",
              "      <td>100% Corpus</td>\n",
              "      <td>6</td>\n",
              "      <td>0.9099999999999999</td>\n",
              "      <td>0.9099999999999999</td>\n",
              "      <td>0.465064</td>\n",
              "    </tr>\n",
              "    <tr>\n",
              "      <th>305</th>\n",
              "      <td>100% Corpus</td>\n",
              "      <td>6</td>\n",
              "      <td>0.31</td>\n",
              "      <td>0.01</td>\n",
              "      <td>0.453668</td>\n",
              "    </tr>\n",
              "    <tr>\n",
              "      <th>320</th>\n",
              "      <td>100% Corpus</td>\n",
              "      <td>6</td>\n",
              "      <td>symmetric</td>\n",
              "      <td>0.01</td>\n",
              "      <td>0.444341</td>\n",
              "    </tr>\n",
              "    <tr>\n",
              "      <th>300</th>\n",
              "      <td>100% Corpus</td>\n",
              "      <td>6</td>\n",
              "      <td>0.01</td>\n",
              "      <td>0.01</td>\n",
              "      <td>0.442339</td>\n",
              "    </tr>\n",
              "    <tr>\n",
              "      <th>310</th>\n",
              "      <td>100% Corpus</td>\n",
              "      <td>6</td>\n",
              "      <td>0.61</td>\n",
              "      <td>0.01</td>\n",
              "      <td>0.439593</td>\n",
              "    </tr>\n",
              "    <tr>\n",
              "      <th>315</th>\n",
              "      <td>100% Corpus</td>\n",
              "      <td>6</td>\n",
              "      <td>0.9099999999999999</td>\n",
              "      <td>0.01</td>\n",
              "      <td>0.421615</td>\n",
              "    </tr>\n",
              "    <tr>\n",
              "      <th>325</th>\n",
              "      <td>100% Corpus</td>\n",
              "      <td>6</td>\n",
              "      <td>asymmetric</td>\n",
              "      <td>0.01</td>\n",
              "      <td>0.412426</td>\n",
              "    </tr>\n",
              "  </tbody>\n",
              "</table>\n",
              "</div>\n",
              "      <button class=\"colab-df-convert\" onclick=\"convertToInteractive('df-b8ceb90a-372b-4de1-8f09-ff130c0f9bbc')\"\n",
              "              title=\"Convert this dataframe to an interactive table.\"\n",
              "              style=\"display:none;\">\n",
              "        \n",
              "  <svg xmlns=\"http://www.w3.org/2000/svg\" height=\"24px\"viewBox=\"0 0 24 24\"\n",
              "       width=\"24px\">\n",
              "    <path d=\"M0 0h24v24H0V0z\" fill=\"none\"/>\n",
              "    <path d=\"M18.56 5.44l.94 2.06.94-2.06 2.06-.94-2.06-.94-.94-2.06-.94 2.06-2.06.94zm-11 1L8.5 8.5l.94-2.06 2.06-.94-2.06-.94L8.5 2.5l-.94 2.06-2.06.94zm10 10l.94 2.06.94-2.06 2.06-.94-2.06-.94-.94-2.06-.94 2.06-2.06.94z\"/><path d=\"M17.41 7.96l-1.37-1.37c-.4-.4-.92-.59-1.43-.59-.52 0-1.04.2-1.43.59L10.3 9.45l-7.72 7.72c-.78.78-.78 2.05 0 2.83L4 21.41c.39.39.9.59 1.41.59.51 0 1.02-.2 1.41-.59l7.78-7.78 2.81-2.81c.8-.78.8-2.07 0-2.86zM5.41 20L4 18.59l7.72-7.72 1.47 1.35L5.41 20z\"/>\n",
              "  </svg>\n",
              "      </button>\n",
              "      \n",
              "  <style>\n",
              "    .colab-df-container {\n",
              "      display:flex;\n",
              "      flex-wrap:wrap;\n",
              "      gap: 12px;\n",
              "    }\n",
              "\n",
              "    .colab-df-convert {\n",
              "      background-color: #E8F0FE;\n",
              "      border: none;\n",
              "      border-radius: 50%;\n",
              "      cursor: pointer;\n",
              "      display: none;\n",
              "      fill: #1967D2;\n",
              "      height: 32px;\n",
              "      padding: 0 0 0 0;\n",
              "      width: 32px;\n",
              "    }\n",
              "\n",
              "    .colab-df-convert:hover {\n",
              "      background-color: #E2EBFA;\n",
              "      box-shadow: 0px 1px 2px rgba(60, 64, 67, 0.3), 0px 1px 3px 1px rgba(60, 64, 67, 0.15);\n",
              "      fill: #174EA6;\n",
              "    }\n",
              "\n",
              "    [theme=dark] .colab-df-convert {\n",
              "      background-color: #3B4455;\n",
              "      fill: #D2E3FC;\n",
              "    }\n",
              "\n",
              "    [theme=dark] .colab-df-convert:hover {\n",
              "      background-color: #434B5C;\n",
              "      box-shadow: 0px 1px 3px 1px rgba(0, 0, 0, 0.15);\n",
              "      filter: drop-shadow(0px 1px 2px rgba(0, 0, 0, 0.3));\n",
              "      fill: #FFFFFF;\n",
              "    }\n",
              "  </style>\n",
              "\n",
              "      <script>\n",
              "        const buttonEl =\n",
              "          document.querySelector('#df-b8ceb90a-372b-4de1-8f09-ff130c0f9bbc button.colab-df-convert');\n",
              "        buttonEl.style.display =\n",
              "          google.colab.kernel.accessAllowed ? 'block' : 'none';\n",
              "\n",
              "        async function convertToInteractive(key) {\n",
              "          const element = document.querySelector('#df-b8ceb90a-372b-4de1-8f09-ff130c0f9bbc');\n",
              "          const dataTable =\n",
              "            await google.colab.kernel.invokeFunction('convertToInteractive',\n",
              "                                                     [key], {});\n",
              "          if (!dataTable) return;\n",
              "\n",
              "          const docLinkHtml = 'Like what you see? Visit the ' +\n",
              "            '<a target=\"_blank\" href=https://colab.research.google.com/notebooks/data_table.ipynb>data table notebook</a>'\n",
              "            + ' to learn more about interactive tables.';\n",
              "          element.innerHTML = '';\n",
              "          dataTable['output_type'] = 'display_data';\n",
              "          await google.colab.output.renderOutput(dataTable, element);\n",
              "          const docLink = document.createElement('div');\n",
              "          docLink.innerHTML = docLinkHtml;\n",
              "          element.appendChild(docLink);\n",
              "        }\n",
              "      </script>\n",
              "    </div>\n",
              "  </div>\n",
              "  "
            ]
          },
          "metadata": {},
          "execution_count": 482
        }
      ],
      "source": [
        "df_plot_2 = df_tuning_all[(df_tuning_all.Topics == 5) & (df_tuning_all.Validation_Set == \"100% Corpus\")].copy()\n",
        "df_plot_2.sort_values(by=\"Coherence\", ascending=False)"
      ]
    },
    {
      "cell_type": "code",
      "execution_count": 483,
      "metadata": {
        "colab": {
          "base_uri": "https://localhost:8080/"
        },
        "id": "6lJgroUo_t2_",
        "outputId": "9c4321d4-154e-43a3-e566-6f284ec8145e"
      },
      "outputs": [
        {
          "output_type": "stream",
          "name": "stdout",
          "text": [
            "[(0,\n",
            "  '0.023*\"wisata\" + 0.014*\"face\" + 0.013*\"ayo\" + 0.011*\"kawasan\" + '\n",
            "  '0.011*\"coba\" + 0.010*\"video\" + 0.010*\"menarik\" + 0.010*\"mencoba\" + '\n",
            "  '0.010*\"cek\" + 0.010*\"makan\"'),\n",
            " (1,\n",
            "  '0.028*\"minus\" + 0.024*\"preservation\" + 0.013*\"sih\" + 0.012*\"looking\" + '\n",
            "  '0.012*\"support\" + 0.012*\"denmark\" + 0.012*\"climate\" + 0.012*\"works\" + '\n",
            "  '0.012*\"change\" + 0.012*\"carbon\"'),\n",
            " (2,\n",
            "  '0.014*\"ditemukan\" + 0.014*\"bayi\" + 0.014*\"jenazah\" + 0.007*\"fire\" + '\n",
            "  '0.007*\"heart\" + 0.004*\"bahan\" + 0.004*\"sambal\" + 0.004*\"face\" + '\n",
            "  '0.003*\"pohon\" + 0.003*\"tree\"'),\n",
            " (3,\n",
            "  '0.029*\"sampah\" + 0.027*\"plastik\" + 0.014*\"foto\" + 0.013*\"take\" + '\n",
            "  '0.012*\"penebangan\" + 0.012*\"nasib\" + 0.012*\"terancam\" + 0.008*\"face\" + '\n",
            "  '0.007*\"pohon\" + 0.007*\"smiling\"'),\n",
            " (4,\n",
            "  '0.009*\"wisata\" + 0.008*\"gym\" + 0.006*\"time\" + 0.006*\"raya\" + 0.005*\"face\" + '\n",
            "  '0.005*\"arah\" + 0.005*\"pemkot\" + 0.004*\"nby\" + 0.004*\"kota\" + '\n",
            "  '0.004*\"nsurabaya\"')]\n"
          ]
        }
      ],
      "source": [
        "#17.g. Ektraksi topik\n",
        "n = 5\n",
        "a = 0.01\n",
        "b = 0.3\n",
        "lda = ldamodel(n,a,b,doc_term_matrix, dictionary)\n",
        "\n",
        "from pprint import pprint\n",
        "pprint(lda.print_topics())"
      ]
    },
    {
      "cell_type": "markdown",
      "metadata": {
        "id": "DyRzdyIABOXz"
      },
      "source": [
        "# MODEL PREDIKSI"
      ]
    },
    {
      "cell_type": "code",
      "execution_count": 484,
      "metadata": {
        "id": "CFa5gFbYC9xs"
      },
      "outputs": [],
      "source": [
        "prediksi_df = pd.read_csv('sentimen_lexicon.csv', sep=';')\n",
        "\n",
        "# Example sentiment data\n",
        "texts = prediksi_df['hasil'].astype(str).tolist()\n",
        "\n",
        "# Example sentiment labels (0: negative, 1: neutral, 2: positive)\n",
        "labels = np.array(prediksi_df['sentiment'].tolist())\n",
        "\n",
        "# Split the data into training and testing sets\n",
        "texts_train, texts_test, labels_train, labels_test = train_test_split(texts, labels, test_size=0.2, random_state=42)\n",
        "\n",
        "# Tokenize the text data\n",
        "tokenizer = Tokenizer()\n",
        "tokenizer.fit_on_texts(texts_train)\n",
        "vocab_size = len(tokenizer.word_index) + 1\n",
        "\n",
        "# Convert text data to sequences\n",
        "sequences_train = tokenizer.texts_to_sequences(texts_train)\n",
        "sequences_test = tokenizer.texts_to_sequences(texts_test)\n",
        "\n",
        "# Pad sequences to have the same length\n",
        "max_length = 10\n",
        "X_train = pad_sequences(sequences_train, maxlen=max_length, padding='post')\n",
        "X_test = pad_sequences(sequences_test, maxlen=max_length, padding='post')\n",
        "\n",
        "# Convert labels to one-hot encoding\n",
        "num_classes = 3\n",
        "y_train = np.eye(num_classes)[labels_train]\n",
        "y_test = np.eye(num_classes)[labels_test]"
      ]
    },
    {
      "cell_type": "code",
      "execution_count": 485,
      "metadata": {
        "id": "28NQkBStM_bu"
      },
      "outputs": [],
      "source": [
        "list_akurasi = []\n",
        "list_model = []"
      ]
    },
    {
      "cell_type": "markdown",
      "metadata": {
        "id": "RafJZG6dBP0m"
      },
      "source": [
        "## LSTM"
      ]
    },
    {
      "cell_type": "code",
      "execution_count": 486,
      "metadata": {
        "colab": {
          "base_uri": "https://localhost:8080/"
        },
        "id": "CySb6v-rCYE5",
        "outputId": "722affb1-f4d5-4d5e-c089-cabd2d3e52db"
      },
      "outputs": [
        {
          "output_type": "stream",
          "name": "stdout",
          "text": [
            "Epoch 1/3\n",
            "116/116 [==============================] - 12s 49ms/step - loss: 0.8225 - accuracy: 0.6149 - val_loss: 0.6803 - val_accuracy: 0.6739\n",
            "Epoch 2/3\n",
            "116/116 [==============================] - 4s 31ms/step - loss: 0.4102 - accuracy: 0.8323 - val_loss: 0.6137 - val_accuracy: 0.7840\n",
            "Epoch 3/3\n",
            "116/116 [==============================] - 4s 35ms/step - loss: 0.1514 - accuracy: 0.9529 - val_loss: 0.6781 - val_accuracy: 0.7797\n",
            "15/15 [==============================] - 0s 6ms/step - loss: 0.6781 - accuracy: 0.7797\n",
            "Test Loss: 0.6780616044998169\n",
            "Test Accuracy: 0.779697597026825\n"
          ]
        }
      ],
      "source": [
        "# Create the LSTM model\n",
        "model = Sequential()\n",
        "model.add(Embedding(vocab_size, 100, input_length=max_length))\n",
        "model.add(SpatialDropout1D(0.2))\n",
        "model.add(LSTM(64))\n",
        "model.add(Dense(num_classes, activation='softmax'))\n",
        "\n",
        "# Compile the model\n",
        "model.compile(optimizer='adam', loss='categorical_crossentropy', metrics=['accuracy'])\n",
        "\n",
        "# Train the model\n",
        "model.fit(X_train, y_train, epochs=3, batch_size=16, validation_data=(X_test, y_test))\n",
        "\n",
        "# Evaluate the model\n",
        "loss, accuracy = model.evaluate(X_test, y_test)\n",
        "print('Test Loss:', loss)\n",
        "print('Test Accuracy:', accuracy)\n",
        "\n",
        "list_akurasi.append(accuracy)\n",
        "list_model.append('LSTM')"
      ]
    },
    {
      "cell_type": "markdown",
      "metadata": {
        "id": "WbE-Nw3GD9xA"
      },
      "source": [
        "## BLSTM"
      ]
    },
    {
      "cell_type": "code",
      "execution_count": 487,
      "metadata": {
        "colab": {
          "base_uri": "https://localhost:8080/"
        },
        "id": "jprAUQNGD_I5",
        "outputId": "2881348f-6080-4ce2-b14e-36ae548f6c2d"
      },
      "outputs": [
        {
          "output_type": "stream",
          "name": "stdout",
          "text": [
            "Epoch 1/3\n",
            "116/116 [==============================] - 12s 37ms/step - loss: 0.8176 - accuracy: 0.6209 - val_loss: 0.6496 - val_accuracy: 0.7322\n",
            "Epoch 2/3\n",
            "116/116 [==============================] - 3s 22ms/step - loss: 0.3299 - accuracy: 0.8794 - val_loss: 0.6298 - val_accuracy: 0.7883\n",
            "Epoch 3/3\n",
            "116/116 [==============================] - 3s 22ms/step - loss: 0.1039 - accuracy: 0.9692 - val_loss: 0.8145 - val_accuracy: 0.7581\n",
            "15/15 [==============================] - 0s 5ms/step - loss: 0.8145 - accuracy: 0.7581\n",
            "Test Loss: 0.8145414590835571\n",
            "Test Accuracy: 0.758099377155304\n"
          ]
        }
      ],
      "source": [
        "# Create the BLSTM model\n",
        "model = Sequential()\n",
        "model.add(Embedding(vocab_size, 100, input_length=max_length))\n",
        "model.add(Bidirectional(LSTM(64)))\n",
        "model.add(Dense(num_classes, activation='softmax'))\n",
        "\n",
        "# Compile the model\n",
        "model.compile(optimizer='adam', loss='categorical_crossentropy', metrics=['accuracy'])\n",
        "\n",
        "# Train the model\n",
        "model.fit(X_train, y_train, epochs=3, batch_size=16, validation_data=(X_test, y_test))\n",
        "\n",
        "# Evaluate the model\n",
        "loss, accuracy = model.evaluate(X_test, y_test)\n",
        "print('Test Loss:', loss)\n",
        "print('Test Accuracy:', accuracy)\n",
        "\n",
        "list_akurasi.append(accuracy)\n",
        "list_model.append('B-LSTM')"
      ]
    },
    {
      "cell_type": "markdown",
      "metadata": {
        "id": "EaoNJ1lGK5V4"
      },
      "source": [
        "## model individu"
      ]
    },
    {
      "cell_type": "code",
      "execution_count": 488,
      "metadata": {
        "colab": {
          "base_uri": "https://localhost:8080/"
        },
        "id": "226YiIY0K6wI",
        "outputId": "99a0cb06-0a88-42cc-dd4f-492476d66f97"
      },
      "outputs": [
        {
          "output_type": "stream",
          "name": "stdout",
          "text": [
            "SVM Accuracy: 0.7186761229314421\n",
            "Decision Tree Accuracy: 0.7163120567375887\n",
            "Logistic Regression Accuracy: 0.723404255319149\n",
            "LDA Accuracy: 0.6643026004728132\n",
            "Gaussian Naive Bayes Accuracy: 0.624113475177305\n"
          ]
        }
      ],
      "source": [
        "prediksi_df.dropna(inplace=True)\n",
        "documents = prediksi_df['hasil']\n",
        "labels = prediksi_df['sentiment']\n",
        "\n",
        "# Create the TF-IDF vectorizer\n",
        "vectorizer = TfidfVectorizer()\n",
        "\n",
        "# Convert the text data into TF-IDF vectors\n",
        "tfidf_vectors = vectorizer.fit_transform(documents).toarray()\n",
        "\n",
        "# Split the dataset into training and testing sets\n",
        "train_vectors, test_vectors, train_labels, test_labels = train_test_split(tfidf_vectors, labels, test_size=0.2, random_state=42, stratify=labels)\n",
        "\n",
        "# Train an SVM classifier\n",
        "classifier = svm.SVC(kernel='rbf', probability = True)\n",
        "classifier.fit(train_vectors, train_labels)\n",
        "predictions = classifier.predict(test_vectors)\n",
        "svm_accuracy = accuracy_score(test_labels, predictions)\n",
        "list_akurasi.append(svm_accuracy)\n",
        "list_model.append('SVM')\n",
        "print(\"SVM Accuracy:\", svm_accuracy)\n",
        "\n",
        "dtree = DecisionTreeClassifier(criterion=\"entropy\")\n",
        "dtree = dtree.fit(train_vectors, train_labels)\n",
        "predTree = dtree.predict(test_vectors)\n",
        "dtree_accuracy = accuracy_score(test_labels, predTree)\n",
        "list_akurasi.append(dtree_accuracy)\n",
        "list_model.append('D TREE')\n",
        "print(\"Decision Tree Accuracy:\", dtree_accuracy)\n",
        "\n",
        "lr = LogisticRegression(multi_class='multinomial', solver='lbfgs')\n",
        "lr = lr.fit(train_vectors, train_labels)\n",
        "y_pred = lr.predict(test_vectors)\n",
        "lr_accuracy = accuracy_score(test_labels, y_pred)\n",
        "list_akurasi.append(lr_accuracy)\n",
        "list_model.append('LR')\n",
        "print(\"Logistic Regression Accuracy:\", lr_accuracy)\n",
        "\n",
        "lda = LinearDiscriminantAnalysis()\n",
        "lda = lda.fit(train_vectors, train_labels)\n",
        "y_pred = lda.predict(test_vectors)\n",
        "lda_accuracy = accuracy_score(test_labels, y_pred)\n",
        "list_akurasi.append(lda_accuracy)\n",
        "list_model.append('LDA')\n",
        "print(\"LDA Accuracy:\", lda_accuracy)\n",
        "\n",
        "gnb = GaussianNB()\n",
        "gnb = gnb.fit(train_vectors, train_labels)\n",
        "y_pred = gnb.predict(test_vectors)\n",
        "gnb_accuracy = accuracy_score(test_labels, y_pred)\n",
        "list_akurasi.append(gnb_accuracy)\n",
        "list_model.append('GNB')\n",
        "print(\"Gaussian Naive Bayes Accuracy:\", gnb_accuracy)\n"
      ]
    },
    {
      "cell_type": "markdown",
      "metadata": {
        "id": "BYLQMWEYMHWu"
      },
      "source": [
        "## Ensemble Learning"
      ]
    },
    {
      "cell_type": "markdown",
      "metadata": {
        "id": "oO_rmbl-MJAq"
      },
      "source": [
        "### MAX VOTING"
      ]
    },
    {
      "cell_type": "code",
      "execution_count": null,
      "metadata": {
        "id": "SHwqcbVaNyWG"
      },
      "outputs": [],
      "source": [
        "# 3 model individu\n",
        "model3 = VotingClassifier(estimators=[('clf', classifier), ('neigh', dtree), ('lda', lda)], voting='hard')\n",
        "cv = RepeatedStratifiedKFold(n_splits=10, n_repeats=3, random_state=1)\n",
        "cross_score = cross_val_score(model3, tfidf_vectors, labels, scoring='accuracy', cv=cv, n_jobs=-1)\n",
        "print('rata-rata akurasi: ', mean(cross_score))\n",
        "\n",
        "list_akurasi.append(mean(cross_score))\n",
        "list_model.append('maxvote A')"
      ]
    },
    {
      "cell_type": "code",
      "execution_count": null,
      "metadata": {
        "id": "MrcmqpKSOTSo"
      },
      "outputs": [],
      "source": [
        "# 3 model individu\n",
        "model3 = VotingClassifier(estimators=[('clf', classifier), ('neigh', dtree), ('lr', lr)], voting='hard')\n",
        "cv = RepeatedStratifiedKFold(n_splits=10, n_repeats=3, random_state=1)\n",
        "cross_score = cross_val_score(model3, tfidf_vectors, labels, scoring='accuracy', cv=cv, n_jobs=-1)\n",
        "print('rata-rata akurasi: ', mean(cross_score))\n",
        "\n",
        "list_akurasi.append(mean(cross_score))\n",
        "list_model.append('maxvote B')"
      ]
    },
    {
      "cell_type": "code",
      "execution_count": null,
      "metadata": {
        "id": "V6G8VTKjOX_V"
      },
      "outputs": [],
      "source": [
        "# 4 model individu\n",
        "model3 = VotingClassifier(estimators=[('clf', classifier), ('dtree', dtree), ('lda', lda), ('lr', lr)], voting='hard')\n",
        "cv = RepeatedStratifiedKFold(n_splits=10, n_repeats=3, random_state=1)\n",
        "cross_score = cross_val_score(model3, tfidf_vectors, labels, scoring='accuracy', cv=cv, n_jobs=-1)\n",
        "print('rata-rata akurasi: ', mean(cross_score))\n",
        "\n",
        "list_akurasi.append(mean(cross_score)), list_model.append('maxvote C')"
      ]
    },
    {
      "cell_type": "markdown",
      "metadata": {
        "id": "DSqYW-chcQB3"
      },
      "source": [
        "## averaging"
      ]
    },
    {
      "cell_type": "code",
      "execution_count": 490,
      "metadata": {
        "id": "5Tr6yGTZcRe3"
      },
      "outputs": [],
      "source": [
        "pred1=classifier.predict_proba(test_vectors)\n",
        "pred2=dtree.predict_proba(test_vectors)\n",
        "pred3=lr.predict_proba(test_vectors)\n",
        "pred4=lda.predict_proba(test_vectors)\n",
        "pred5=gnb.predict_proba(test_vectors)\n",
        "\n",
        "finalpred=(pred1+pred2+pred3+pred4+pred5)/5\n",
        "hasil_pred = []\n",
        "\n",
        "for i in range(0, finalpred.shape[0]):\n",
        "  maxIndex = np.argmax(finalpred[i])\n",
        "  hasil_pred.append(maxIndex)"
      ]
    },
    {
      "cell_type": "code",
      "execution_count": 491,
      "metadata": {
        "id": "l95juGaX6-b3",
        "colab": {
          "base_uri": "https://localhost:8080/"
        },
        "outputId": "cdb8e883-2884-48d9-b23b-9a7d7320852d"
      },
      "outputs": [
        {
          "output_type": "execute_result",
          "data": {
            "text/plain": [
              "(None, None)"
            ]
          },
          "metadata": {},
          "execution_count": 491
        }
      ],
      "source": [
        "list_akurasi.append(metrics.accuracy_score(test_labels, hasil_pred)), list_model.append('averaging')"
      ]
    },
    {
      "cell_type": "markdown",
      "metadata": {
        "id": "sxdCH7hB61n3"
      },
      "source": [
        "### weighted averaging"
      ]
    },
    {
      "cell_type": "code",
      "execution_count": 492,
      "metadata": {
        "id": "E0JQ1trS7OaU"
      },
      "outputs": [],
      "source": [
        "all = svm_accuracy + dtree_accuracy + lr_accuracy + lda_accuracy + gnb_accuracy"
      ]
    },
    {
      "cell_type": "code",
      "execution_count": 493,
      "metadata": {
        "id": "mxt4tOGy64Zz",
        "colab": {
          "base_uri": "https://localhost:8080/"
        },
        "outputId": "113fdc17-94e1-4134-bcbf-86fb6a5c6157"
      },
      "outputs": [
        {
          "output_type": "execute_result",
          "data": {
            "text/plain": [
              "(None, None)"
            ]
          },
          "metadata": {},
          "execution_count": 493
        }
      ],
      "source": [
        "finalpred=(pred1 * svm_accuracy / all + pred2 * dtree_accuracy / all + pred3 * dtree_accuracy / all + pred4 * lda_accuracy / all + pred5 * gnb_accuracy / all)/5\n",
        "hasil_pred = []\n",
        "\n",
        "for i in range(0, finalpred.shape[0]):\n",
        "  maxIndex = np.argmax(finalpred[i])\n",
        "  hasil_pred.append(maxIndex)\n",
        "\n",
        "list_akurasi.append(metrics.accuracy_score(test_labels, hasil_pred)), list_model.append('weighted averaging')"
      ]
    },
    {
      "cell_type": "markdown",
      "metadata": {
        "id": "KrCkeeTO8pmr"
      },
      "source": [
        "# KESIMPULAN"
      ]
    },
    {
      "cell_type": "code",
      "execution_count": 494,
      "metadata": {
        "id": "hT85VWRS8liU",
        "colab": {
          "base_uri": "https://localhost:8080/"
        },
        "outputId": "d32d52b3-7ef4-46ee-979a-94d0ebdbbf9e"
      },
      "outputs": [
        {
          "output_type": "execute_result",
          "data": {
            "text/plain": [
              "[('LSTM', 0.779697597026825),\n",
              " ('B-LSTM', 0.758099377155304),\n",
              " ('averaging', 0.7446808510638298),\n",
              " ('weighted averaging', 0.7423167848699763),\n",
              " ('LR', 0.723404255319149),\n",
              " ('SVM', 0.7186761229314421),\n",
              " ('D TREE', 0.7163120567375887),\n",
              " ('LDA', 0.6643026004728132),\n",
              " ('GNB', 0.624113475177305)]"
            ]
          },
          "metadata": {},
          "execution_count": 494
        }
      ],
      "source": [
        "sort_all = sorted(list(zip(list_model,list_akurasi)), key=lambda l:l[1], reverse = True)\n",
        "sort_all"
      ]
    },
    {
      "cell_type": "code",
      "source": [],
      "metadata": {
        "id": "C1DN-LEabe8V"
      },
      "execution_count": null,
      "outputs": []
    }
  ],
  "metadata": {
    "colab": {
      "provenance": []
    },
    "kernelspec": {
      "display_name": "Python 3",
      "name": "python3"
    },
    "language_info": {
      "name": "python"
    }
  },
  "nbformat": 4,
  "nbformat_minor": 0
}